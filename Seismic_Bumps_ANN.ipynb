{
  "nbformat": 4,
  "nbformat_minor": 5,
  "metadata": {
    "kernelspec": {
      "display_name": "Python 3",
      "language": "python",
      "name": "python3"
    },
    "language_info": {
      "codemirror_mode": {
        "name": "ipython",
        "version": 3
      },
      "file_extension": ".py",
      "mimetype": "text/x-python",
      "name": "python",
      "nbconvert_exporter": "python",
      "pygments_lexer": "ipython3",
      "version": "3.8.8"
    },
    "colab": {
      "name": "Copy of Seismic_Bumps-ANN.ipynb",
      "provenance": [],
      "include_colab_link": true
    },
    "accelerator": "GPU"
  },
  "cells": [
    {
      "cell_type": "markdown",
      "metadata": {
        "id": "view-in-github",
        "colab_type": "text"
      },
      "source": [
        "<a href=\"https://colab.research.google.com/github/herbert0419/TSF_Assignments_Task-1/blob/main/Seismic_Bumps_ANN.ipynb\" target=\"_parent\"><img src=\"https://colab.research.google.com/assets/colab-badge.svg\" alt=\"Open In Colab\"/></a>"
      ]
    },
    {
      "cell_type": "code",
      "metadata": {
        "id": "3de90d64"
      },
      "source": [
        "import numpy as np\n",
        "import pandas as pd\n",
        "\n",
        "import scipy\n",
        "from scipy.io import arff\n",
        "from scipy import stats\n",
        "import joblib"
      ],
      "id": "3de90d64",
      "execution_count": null,
      "outputs": []
    },
    {
      "cell_type": "code",
      "metadata": {
        "id": "9c841911"
      },
      "source": [
        "pd.set_option('display.max_rows', 500)\n",
        "pd.set_option('display.max_columns', 500)"
      ],
      "id": "9c841911",
      "execution_count": null,
      "outputs": []
    },
    {
      "cell_type": "code",
      "metadata": {
        "id": "5498af68"
      },
      "source": [
        "import matplotlib.pyplot as plt\n",
        "import seaborn as sns"
      ],
      "id": "5498af68",
      "execution_count": null,
      "outputs": []
    },
    {
      "cell_type": "code",
      "metadata": {
        "id": "4314934b"
      },
      "source": [
        "from sklearn.preprocessing import OneHotEncoder, LabelEncoder\n",
        "from sklearn.model_selection import KFold, cross_val_score, GridSearchCV, train_test_split, StratifiedKFold, cross_validate, StratifiedShuffleSplit\n",
        "from sklearn.neighbors import KNeighborsClassifier\n",
        "from sklearn.metrics import confusion_matrix, precision_score, recall_score, f1_score, accuracy_score"
      ],
      "id": "4314934b",
      "execution_count": null,
      "outputs": []
    },
    {
      "cell_type": "code",
      "metadata": {
        "id": "1f725f27"
      },
      "source": [
        "df = pd.read_csv('/content/csv_result-seismic-bumps .csv')"
      ],
      "id": "1f725f27",
      "execution_count": null,
      "outputs": []
    },
    {
      "cell_type": "code",
      "metadata": {
        "colab": {
          "base_uri": "https://localhost:8080/",
          "height": 223
        },
        "id": "a054a0ec",
        "outputId": "f8d39a50-9a46-432e-f595-5f03db2ffc22"
      },
      "source": [
        "df.head()"
      ],
      "id": "a054a0ec",
      "execution_count": null,
      "outputs": [
        {
          "output_type": "execute_result",
          "data": {
            "text/html": [
              "<div>\n",
              "<style scoped>\n",
              "    .dataframe tbody tr th:only-of-type {\n",
              "        vertical-align: middle;\n",
              "    }\n",
              "\n",
              "    .dataframe tbody tr th {\n",
              "        vertical-align: top;\n",
              "    }\n",
              "\n",
              "    .dataframe thead th {\n",
              "        text-align: right;\n",
              "    }\n",
              "</style>\n",
              "<table border=\"1\" class=\"dataframe\">\n",
              "  <thead>\n",
              "    <tr style=\"text-align: right;\">\n",
              "      <th></th>\n",
              "      <th>id</th>\n",
              "      <th>seismic</th>\n",
              "      <th>seismoacoustic</th>\n",
              "      <th>shift</th>\n",
              "      <th>genergy</th>\n",
              "      <th>gpuls</th>\n",
              "      <th>gdenergy</th>\n",
              "      <th>gdpuls</th>\n",
              "      <th>ghazard</th>\n",
              "      <th>nbumps</th>\n",
              "      <th>nbumps2</th>\n",
              "      <th>nbumps3</th>\n",
              "      <th>nbumps4</th>\n",
              "      <th>nbumps5</th>\n",
              "      <th>nbumps6</th>\n",
              "      <th>nbumps7</th>\n",
              "      <th>nbumps89</th>\n",
              "      <th>energy</th>\n",
              "      <th>maxenergy</th>\n",
              "      <th>class</th>\n",
              "    </tr>\n",
              "  </thead>\n",
              "  <tbody>\n",
              "    <tr>\n",
              "      <th>0</th>\n",
              "      <td>1</td>\n",
              "      <td>a</td>\n",
              "      <td>a</td>\n",
              "      <td>N</td>\n",
              "      <td>15180</td>\n",
              "      <td>48</td>\n",
              "      <td>-72</td>\n",
              "      <td>-72</td>\n",
              "      <td>a</td>\n",
              "      <td>0</td>\n",
              "      <td>0</td>\n",
              "      <td>0</td>\n",
              "      <td>0</td>\n",
              "      <td>0</td>\n",
              "      <td>0</td>\n",
              "      <td>0</td>\n",
              "      <td>0</td>\n",
              "      <td>0</td>\n",
              "      <td>0</td>\n",
              "      <td>0</td>\n",
              "    </tr>\n",
              "    <tr>\n",
              "      <th>1</th>\n",
              "      <td>2</td>\n",
              "      <td>a</td>\n",
              "      <td>a</td>\n",
              "      <td>N</td>\n",
              "      <td>14720</td>\n",
              "      <td>33</td>\n",
              "      <td>-70</td>\n",
              "      <td>-79</td>\n",
              "      <td>a</td>\n",
              "      <td>1</td>\n",
              "      <td>0</td>\n",
              "      <td>1</td>\n",
              "      <td>0</td>\n",
              "      <td>0</td>\n",
              "      <td>0</td>\n",
              "      <td>0</td>\n",
              "      <td>0</td>\n",
              "      <td>2000</td>\n",
              "      <td>2000</td>\n",
              "      <td>0</td>\n",
              "    </tr>\n",
              "    <tr>\n",
              "      <th>2</th>\n",
              "      <td>3</td>\n",
              "      <td>a</td>\n",
              "      <td>a</td>\n",
              "      <td>N</td>\n",
              "      <td>8050</td>\n",
              "      <td>30</td>\n",
              "      <td>-81</td>\n",
              "      <td>-78</td>\n",
              "      <td>a</td>\n",
              "      <td>0</td>\n",
              "      <td>0</td>\n",
              "      <td>0</td>\n",
              "      <td>0</td>\n",
              "      <td>0</td>\n",
              "      <td>0</td>\n",
              "      <td>0</td>\n",
              "      <td>0</td>\n",
              "      <td>0</td>\n",
              "      <td>0</td>\n",
              "      <td>0</td>\n",
              "    </tr>\n",
              "    <tr>\n",
              "      <th>3</th>\n",
              "      <td>4</td>\n",
              "      <td>a</td>\n",
              "      <td>a</td>\n",
              "      <td>N</td>\n",
              "      <td>28820</td>\n",
              "      <td>171</td>\n",
              "      <td>-23</td>\n",
              "      <td>40</td>\n",
              "      <td>a</td>\n",
              "      <td>1</td>\n",
              "      <td>0</td>\n",
              "      <td>1</td>\n",
              "      <td>0</td>\n",
              "      <td>0</td>\n",
              "      <td>0</td>\n",
              "      <td>0</td>\n",
              "      <td>0</td>\n",
              "      <td>3000</td>\n",
              "      <td>3000</td>\n",
              "      <td>0</td>\n",
              "    </tr>\n",
              "    <tr>\n",
              "      <th>4</th>\n",
              "      <td>5</td>\n",
              "      <td>a</td>\n",
              "      <td>a</td>\n",
              "      <td>N</td>\n",
              "      <td>12640</td>\n",
              "      <td>57</td>\n",
              "      <td>-63</td>\n",
              "      <td>-52</td>\n",
              "      <td>a</td>\n",
              "      <td>0</td>\n",
              "      <td>0</td>\n",
              "      <td>0</td>\n",
              "      <td>0</td>\n",
              "      <td>0</td>\n",
              "      <td>0</td>\n",
              "      <td>0</td>\n",
              "      <td>0</td>\n",
              "      <td>0</td>\n",
              "      <td>0</td>\n",
              "      <td>0</td>\n",
              "    </tr>\n",
              "  </tbody>\n",
              "</table>\n",
              "</div>"
            ],
            "text/plain": [
              "   id seismic seismoacoustic shift  genergy  gpuls  gdenergy  gdpuls ghazard  \\\n",
              "0   1       a              a     N    15180     48       -72     -72       a   \n",
              "1   2       a              a     N    14720     33       -70     -79       a   \n",
              "2   3       a              a     N     8050     30       -81     -78       a   \n",
              "3   4       a              a     N    28820    171       -23      40       a   \n",
              "4   5       a              a     N    12640     57       -63     -52       a   \n",
              "\n",
              "   nbumps  nbumps2  nbumps3  nbumps4  nbumps5  nbumps6  nbumps7  nbumps89  \\\n",
              "0       0        0        0        0        0        0        0         0   \n",
              "1       1        0        1        0        0        0        0         0   \n",
              "2       0        0        0        0        0        0        0         0   \n",
              "3       1        0        1        0        0        0        0         0   \n",
              "4       0        0        0        0        0        0        0         0   \n",
              "\n",
              "   energy  maxenergy  class  \n",
              "0       0          0      0  \n",
              "1    2000       2000      0  \n",
              "2       0          0      0  \n",
              "3    3000       3000      0  \n",
              "4       0          0      0  "
            ]
          },
          "metadata": {
            "tags": []
          },
          "execution_count": 7
        }
      ]
    },
    {
      "cell_type": "code",
      "metadata": {
        "colab": {
          "base_uri": "https://localhost:8080/"
        },
        "id": "b920fff1",
        "outputId": "930ca50f-2b66-47ef-acff-5c6fa03f3633"
      },
      "source": [
        "df.isnull().sum()"
      ],
      "id": "b920fff1",
      "execution_count": null,
      "outputs": [
        {
          "output_type": "execute_result",
          "data": {
            "text/plain": [
              "id                0\n",
              "seismic           0\n",
              "seismoacoustic    0\n",
              "shift             0\n",
              "genergy           0\n",
              "gpuls             0\n",
              "gdenergy          0\n",
              "gdpuls            0\n",
              "ghazard           0\n",
              "nbumps            0\n",
              "nbumps2           0\n",
              "nbumps3           0\n",
              "nbumps4           0\n",
              "nbumps5           0\n",
              "nbumps6           0\n",
              "nbumps7           0\n",
              "nbumps89          0\n",
              "energy            0\n",
              "maxenergy         0\n",
              "class             0\n",
              "dtype: int64"
            ]
          },
          "metadata": {
            "tags": []
          },
          "execution_count": 8
        }
      ]
    },
    {
      "cell_type": "code",
      "metadata": {
        "colab": {
          "base_uri": "https://localhost:8080/"
        },
        "id": "5eb6a677",
        "outputId": "525f4f59-972e-4735-92ff-a9bbeb050b00"
      },
      "source": [
        "df.describe"
      ],
      "id": "5eb6a677",
      "execution_count": null,
      "outputs": [
        {
          "output_type": "execute_result",
          "data": {
            "text/plain": [
              "<bound method NDFrame.describe of         id seismic seismoacoustic shift  genergy  gpuls  gdenergy  gdpuls  \\\n",
              "0        1       a              a     N    15180     48       -72     -72   \n",
              "1        2       a              a     N    14720     33       -70     -79   \n",
              "2        3       a              a     N     8050     30       -81     -78   \n",
              "3        4       a              a     N    28820    171       -23      40   \n",
              "4        5       a              a     N    12640     57       -63     -52   \n",
              "...    ...     ...            ...   ...      ...    ...       ...     ...   \n",
              "2579  2580       b              a     W    81410    785       432     151   \n",
              "2580  2581       b              a     W    42110    555       213     118   \n",
              "2581  2582       b              a     W    26960    540       101     112   \n",
              "2582  2583       a              a     W    16130    322         2       2   \n",
              "2583  2584       a              a     W    12750    235       -10     -10   \n",
              "\n",
              "     ghazard  nbumps  nbumps2  nbumps3  nbumps4  nbumps5  nbumps6  nbumps7  \\\n",
              "0          a       0        0        0        0        0        0        0   \n",
              "1          a       1        0        1        0        0        0        0   \n",
              "2          a       0        0        0        0        0        0        0   \n",
              "3          a       1        0        1        0        0        0        0   \n",
              "4          a       0        0        0        0        0        0        0   \n",
              "...      ...     ...      ...      ...      ...      ...      ...      ...   \n",
              "2579       b       0        0        0        0        0        0        0   \n",
              "2580       a       0        0        0        0        0        0        0   \n",
              "2581       a       0        0        0        0        0        0        0   \n",
              "2582       a       0        0        0        0        0        0        0   \n",
              "2583       a       0        0        0        0        0        0        0   \n",
              "\n",
              "      nbumps89  energy  maxenergy  class  \n",
              "0            0       0          0      0  \n",
              "1            0    2000       2000      0  \n",
              "2            0       0          0      0  \n",
              "3            0    3000       3000      0  \n",
              "4            0       0          0      0  \n",
              "...        ...     ...        ...    ...  \n",
              "2579         0       0          0      0  \n",
              "2580         0       0          0      0  \n",
              "2581         0       0          0      0  \n",
              "2582         0       0          0      0  \n",
              "2583         0       0          0      0  \n",
              "\n",
              "[2584 rows x 20 columns]>"
            ]
          },
          "metadata": {
            "tags": []
          },
          "execution_count": 9
        }
      ]
    },
    {
      "cell_type": "code",
      "metadata": {
        "colab": {
          "base_uri": "https://localhost:8080/",
          "height": 315
        },
        "id": "2b995cee",
        "outputId": "c16ed982-41ff-47b2-b8f0-5f9fc3a00191"
      },
      "source": [
        "df.describe()"
      ],
      "id": "2b995cee",
      "execution_count": null,
      "outputs": [
        {
          "output_type": "execute_result",
          "data": {
            "text/html": [
              "<div>\n",
              "<style scoped>\n",
              "    .dataframe tbody tr th:only-of-type {\n",
              "        vertical-align: middle;\n",
              "    }\n",
              "\n",
              "    .dataframe tbody tr th {\n",
              "        vertical-align: top;\n",
              "    }\n",
              "\n",
              "    .dataframe thead th {\n",
              "        text-align: right;\n",
              "    }\n",
              "</style>\n",
              "<table border=\"1\" class=\"dataframe\">\n",
              "  <thead>\n",
              "    <tr style=\"text-align: right;\">\n",
              "      <th></th>\n",
              "      <th>id</th>\n",
              "      <th>genergy</th>\n",
              "      <th>gpuls</th>\n",
              "      <th>gdenergy</th>\n",
              "      <th>gdpuls</th>\n",
              "      <th>nbumps</th>\n",
              "      <th>nbumps2</th>\n",
              "      <th>nbumps3</th>\n",
              "      <th>nbumps4</th>\n",
              "      <th>nbumps5</th>\n",
              "      <th>nbumps6</th>\n",
              "      <th>nbumps7</th>\n",
              "      <th>nbumps89</th>\n",
              "      <th>energy</th>\n",
              "      <th>maxenergy</th>\n",
              "      <th>class</th>\n",
              "    </tr>\n",
              "  </thead>\n",
              "  <tbody>\n",
              "    <tr>\n",
              "      <th>count</th>\n",
              "      <td>2584.000000</td>\n",
              "      <td>2.584000e+03</td>\n",
              "      <td>2584.000000</td>\n",
              "      <td>2584.000000</td>\n",
              "      <td>2584.000000</td>\n",
              "      <td>2584.000000</td>\n",
              "      <td>2584.000000</td>\n",
              "      <td>2584.000000</td>\n",
              "      <td>2584.000000</td>\n",
              "      <td>2584.000000</td>\n",
              "      <td>2584.0</td>\n",
              "      <td>2584.0</td>\n",
              "      <td>2584.0</td>\n",
              "      <td>2584.000000</td>\n",
              "      <td>2584.000000</td>\n",
              "      <td>2584.000000</td>\n",
              "    </tr>\n",
              "    <tr>\n",
              "      <th>mean</th>\n",
              "      <td>1292.500000</td>\n",
              "      <td>9.024252e+04</td>\n",
              "      <td>538.579334</td>\n",
              "      <td>12.375774</td>\n",
              "      <td>4.508901</td>\n",
              "      <td>0.859520</td>\n",
              "      <td>0.393576</td>\n",
              "      <td>0.392802</td>\n",
              "      <td>0.067724</td>\n",
              "      <td>0.004644</td>\n",
              "      <td>0.0</td>\n",
              "      <td>0.0</td>\n",
              "      <td>0.0</td>\n",
              "      <td>4975.270898</td>\n",
              "      <td>4278.850619</td>\n",
              "      <td>0.065789</td>\n",
              "    </tr>\n",
              "    <tr>\n",
              "      <th>std</th>\n",
              "      <td>746.080871</td>\n",
              "      <td>2.292005e+05</td>\n",
              "      <td>562.652536</td>\n",
              "      <td>80.319051</td>\n",
              "      <td>63.166556</td>\n",
              "      <td>1.364616</td>\n",
              "      <td>0.783772</td>\n",
              "      <td>0.769710</td>\n",
              "      <td>0.279059</td>\n",
              "      <td>0.068001</td>\n",
              "      <td>0.0</td>\n",
              "      <td>0.0</td>\n",
              "      <td>0.0</td>\n",
              "      <td>20450.833222</td>\n",
              "      <td>19357.454882</td>\n",
              "      <td>0.247962</td>\n",
              "    </tr>\n",
              "    <tr>\n",
              "      <th>min</th>\n",
              "      <td>1.000000</td>\n",
              "      <td>1.000000e+02</td>\n",
              "      <td>2.000000</td>\n",
              "      <td>-96.000000</td>\n",
              "      <td>-96.000000</td>\n",
              "      <td>0.000000</td>\n",
              "      <td>0.000000</td>\n",
              "      <td>0.000000</td>\n",
              "      <td>0.000000</td>\n",
              "      <td>0.000000</td>\n",
              "      <td>0.0</td>\n",
              "      <td>0.0</td>\n",
              "      <td>0.0</td>\n",
              "      <td>0.000000</td>\n",
              "      <td>0.000000</td>\n",
              "      <td>0.000000</td>\n",
              "    </tr>\n",
              "    <tr>\n",
              "      <th>25%</th>\n",
              "      <td>646.750000</td>\n",
              "      <td>1.166000e+04</td>\n",
              "      <td>190.000000</td>\n",
              "      <td>-37.000000</td>\n",
              "      <td>-36.000000</td>\n",
              "      <td>0.000000</td>\n",
              "      <td>0.000000</td>\n",
              "      <td>0.000000</td>\n",
              "      <td>0.000000</td>\n",
              "      <td>0.000000</td>\n",
              "      <td>0.0</td>\n",
              "      <td>0.0</td>\n",
              "      <td>0.0</td>\n",
              "      <td>0.000000</td>\n",
              "      <td>0.000000</td>\n",
              "      <td>0.000000</td>\n",
              "    </tr>\n",
              "    <tr>\n",
              "      <th>50%</th>\n",
              "      <td>1292.500000</td>\n",
              "      <td>2.548500e+04</td>\n",
              "      <td>379.000000</td>\n",
              "      <td>-6.000000</td>\n",
              "      <td>-6.000000</td>\n",
              "      <td>0.000000</td>\n",
              "      <td>0.000000</td>\n",
              "      <td>0.000000</td>\n",
              "      <td>0.000000</td>\n",
              "      <td>0.000000</td>\n",
              "      <td>0.0</td>\n",
              "      <td>0.0</td>\n",
              "      <td>0.0</td>\n",
              "      <td>0.000000</td>\n",
              "      <td>0.000000</td>\n",
              "      <td>0.000000</td>\n",
              "    </tr>\n",
              "    <tr>\n",
              "      <th>75%</th>\n",
              "      <td>1938.250000</td>\n",
              "      <td>5.283250e+04</td>\n",
              "      <td>669.000000</td>\n",
              "      <td>38.000000</td>\n",
              "      <td>30.250000</td>\n",
              "      <td>1.000000</td>\n",
              "      <td>1.000000</td>\n",
              "      <td>1.000000</td>\n",
              "      <td>0.000000</td>\n",
              "      <td>0.000000</td>\n",
              "      <td>0.0</td>\n",
              "      <td>0.0</td>\n",
              "      <td>0.0</td>\n",
              "      <td>2600.000000</td>\n",
              "      <td>2000.000000</td>\n",
              "      <td>0.000000</td>\n",
              "    </tr>\n",
              "    <tr>\n",
              "      <th>max</th>\n",
              "      <td>2584.000000</td>\n",
              "      <td>2.595650e+06</td>\n",
              "      <td>4518.000000</td>\n",
              "      <td>1245.000000</td>\n",
              "      <td>838.000000</td>\n",
              "      <td>9.000000</td>\n",
              "      <td>8.000000</td>\n",
              "      <td>7.000000</td>\n",
              "      <td>3.000000</td>\n",
              "      <td>1.000000</td>\n",
              "      <td>0.0</td>\n",
              "      <td>0.0</td>\n",
              "      <td>0.0</td>\n",
              "      <td>402000.000000</td>\n",
              "      <td>400000.000000</td>\n",
              "      <td>1.000000</td>\n",
              "    </tr>\n",
              "  </tbody>\n",
              "</table>\n",
              "</div>"
            ],
            "text/plain": [
              "                id       genergy        gpuls     gdenergy       gdpuls  \\\n",
              "count  2584.000000  2.584000e+03  2584.000000  2584.000000  2584.000000   \n",
              "mean   1292.500000  9.024252e+04   538.579334    12.375774     4.508901   \n",
              "std     746.080871  2.292005e+05   562.652536    80.319051    63.166556   \n",
              "min       1.000000  1.000000e+02     2.000000   -96.000000   -96.000000   \n",
              "25%     646.750000  1.166000e+04   190.000000   -37.000000   -36.000000   \n",
              "50%    1292.500000  2.548500e+04   379.000000    -6.000000    -6.000000   \n",
              "75%    1938.250000  5.283250e+04   669.000000    38.000000    30.250000   \n",
              "max    2584.000000  2.595650e+06  4518.000000  1245.000000   838.000000   \n",
              "\n",
              "            nbumps      nbumps2      nbumps3      nbumps4      nbumps5  \\\n",
              "count  2584.000000  2584.000000  2584.000000  2584.000000  2584.000000   \n",
              "mean      0.859520     0.393576     0.392802     0.067724     0.004644   \n",
              "std       1.364616     0.783772     0.769710     0.279059     0.068001   \n",
              "min       0.000000     0.000000     0.000000     0.000000     0.000000   \n",
              "25%       0.000000     0.000000     0.000000     0.000000     0.000000   \n",
              "50%       0.000000     0.000000     0.000000     0.000000     0.000000   \n",
              "75%       1.000000     1.000000     1.000000     0.000000     0.000000   \n",
              "max       9.000000     8.000000     7.000000     3.000000     1.000000   \n",
              "\n",
              "       nbumps6  nbumps7  nbumps89         energy      maxenergy        class  \n",
              "count   2584.0   2584.0    2584.0    2584.000000    2584.000000  2584.000000  \n",
              "mean       0.0      0.0       0.0    4975.270898    4278.850619     0.065789  \n",
              "std        0.0      0.0       0.0   20450.833222   19357.454882     0.247962  \n",
              "min        0.0      0.0       0.0       0.000000       0.000000     0.000000  \n",
              "25%        0.0      0.0       0.0       0.000000       0.000000     0.000000  \n",
              "50%        0.0      0.0       0.0       0.000000       0.000000     0.000000  \n",
              "75%        0.0      0.0       0.0    2600.000000    2000.000000     0.000000  \n",
              "max        0.0      0.0       0.0  402000.000000  400000.000000     1.000000  "
            ]
          },
          "metadata": {
            "tags": []
          },
          "execution_count": 10
        }
      ]
    },
    {
      "cell_type": "code",
      "metadata": {
        "colab": {
          "base_uri": "https://localhost:8080/"
        },
        "id": "4ecc3e13",
        "outputId": "0fb3a65b-666c-46ac-a9fb-57c50a5e7016"
      },
      "source": [
        "df.shape"
      ],
      "id": "4ecc3e13",
      "execution_count": null,
      "outputs": [
        {
          "output_type": "execute_result",
          "data": {
            "text/plain": [
              "(2584, 20)"
            ]
          },
          "metadata": {
            "tags": []
          },
          "execution_count": 11
        }
      ]
    },
    {
      "cell_type": "code",
      "metadata": {
        "colab": {
          "base_uri": "https://localhost:8080/"
        },
        "id": "451bebc3",
        "outputId": "18fd0b9e-4ea5-48a4-aea8-77a3f32cd998"
      },
      "source": [
        "df.columns"
      ],
      "id": "451bebc3",
      "execution_count": null,
      "outputs": [
        {
          "output_type": "execute_result",
          "data": {
            "text/plain": [
              "Index(['id', 'seismic', 'seismoacoustic', 'shift', 'genergy', 'gpuls',\n",
              "       'gdenergy', 'gdpuls', 'ghazard', 'nbumps', 'nbumps2', 'nbumps3',\n",
              "       'nbumps4', 'nbumps5', 'nbumps6', 'nbumps7', 'nbumps89', 'energy',\n",
              "       'maxenergy', 'class'],\n",
              "      dtype='object')"
            ]
          },
          "metadata": {
            "tags": []
          },
          "execution_count": 12
        }
      ]
    },
    {
      "cell_type": "code",
      "metadata": {
        "colab": {
          "base_uri": "https://localhost:8080/"
        },
        "id": "35616cb7",
        "outputId": "ea9dc639-5ea0-4415-80e5-66c60911d29a"
      },
      "source": [
        "label = 'class'\n",
        "col_list_categorical = ['seismic', 'seismoacoustic', 'shift', 'ghazard']\n",
        "col_list_numerical = ['genergy', 'gpuls', 'gdenergy', 'gdpuls', 'energy', 'maxenergy']\n",
        "col_list_discrete = ['nbumps', 'nbumps2', 'nbumps3', 'nbumps4', 'nbumps5', 'nbumps6', 'nbumps7', 'nbumps89']\n",
        "len([label]) + len(col_list_categorical) + len(col_list_discrete) + len(col_list_numerical)"
      ],
      "id": "35616cb7",
      "execution_count": null,
      "outputs": [
        {
          "output_type": "execute_result",
          "data": {
            "text/plain": [
              "19"
            ]
          },
          "metadata": {
            "tags": []
          },
          "execution_count": 13
        }
      ]
    },
    {
      "cell_type": "code",
      "metadata": {
        "colab": {
          "base_uri": "https://localhost:8080/"
        },
        "id": "f3984359",
        "outputId": "5af323f4-32e0-4eda-cb8b-8f5cc34dbbaf"
      },
      "source": [
        "df.dtypes"
      ],
      "id": "f3984359",
      "execution_count": null,
      "outputs": [
        {
          "output_type": "execute_result",
          "data": {
            "text/plain": [
              "id                 int64\n",
              "seismic           object\n",
              "seismoacoustic    object\n",
              "shift             object\n",
              "genergy            int64\n",
              "gpuls              int64\n",
              "gdenergy           int64\n",
              "gdpuls             int64\n",
              "ghazard           object\n",
              "nbumps             int64\n",
              "nbumps2            int64\n",
              "nbumps3            int64\n",
              "nbumps4            int64\n",
              "nbumps5            int64\n",
              "nbumps6            int64\n",
              "nbumps7            int64\n",
              "nbumps89           int64\n",
              "energy             int64\n",
              "maxenergy          int64\n",
              "class              int64\n",
              "dtype: object"
            ]
          },
          "metadata": {
            "tags": []
          },
          "execution_count": 14
        }
      ]
    },
    {
      "cell_type": "code",
      "metadata": {
        "colab": {
          "base_uri": "https://localhost:8080/"
        },
        "id": "0c5ca3c8",
        "outputId": "d409e136-a2a2-4bdf-be8b-7116a49333bf"
      },
      "source": [
        "df.info(verbose=True, null_counts=True)\n"
      ],
      "id": "0c5ca3c8",
      "execution_count": null,
      "outputs": [
        {
          "output_type": "stream",
          "text": [
            "<class 'pandas.core.frame.DataFrame'>\n",
            "RangeIndex: 2584 entries, 0 to 2583\n",
            "Data columns (total 20 columns):\n",
            " #   Column          Non-Null Count  Dtype \n",
            "---  ------          --------------  ----- \n",
            " 0   id              2584 non-null   int64 \n",
            " 1   seismic         2584 non-null   object\n",
            " 2   seismoacoustic  2584 non-null   object\n",
            " 3   shift           2584 non-null   object\n",
            " 4   genergy         2584 non-null   int64 \n",
            " 5   gpuls           2584 non-null   int64 \n",
            " 6   gdenergy        2584 non-null   int64 \n",
            " 7   gdpuls          2584 non-null   int64 \n",
            " 8   ghazard         2584 non-null   object\n",
            " 9   nbumps          2584 non-null   int64 \n",
            " 10  nbumps2         2584 non-null   int64 \n",
            " 11  nbumps3         2584 non-null   int64 \n",
            " 12  nbumps4         2584 non-null   int64 \n",
            " 13  nbumps5         2584 non-null   int64 \n",
            " 14  nbumps6         2584 non-null   int64 \n",
            " 15  nbumps7         2584 non-null   int64 \n",
            " 16  nbumps89        2584 non-null   int64 \n",
            " 17  energy          2584 non-null   int64 \n",
            " 18  maxenergy       2584 non-null   int64 \n",
            " 19  class           2584 non-null   int64 \n",
            "dtypes: int64(16), object(4)\n",
            "memory usage: 403.9+ KB\n"
          ],
          "name": "stdout"
        }
      ]
    },
    {
      "cell_type": "code",
      "metadata": {
        "colab": {
          "base_uri": "https://localhost:8080/"
        },
        "id": "4bae1bc0",
        "outputId": "804fcd6a-3948-4ca1-e23b-5697e298dd2d"
      },
      "source": [
        "df.columns"
      ],
      "id": "4bae1bc0",
      "execution_count": null,
      "outputs": [
        {
          "output_type": "execute_result",
          "data": {
            "text/plain": [
              "Index(['id', 'seismic', 'seismoacoustic', 'shift', 'genergy', 'gpuls',\n",
              "       'gdenergy', 'gdpuls', 'ghazard', 'nbumps', 'nbumps2', 'nbumps3',\n",
              "       'nbumps4', 'nbumps5', 'nbumps6', 'nbumps7', 'nbumps89', 'energy',\n",
              "       'maxenergy', 'class'],\n",
              "      dtype='object')"
            ]
          },
          "metadata": {
            "tags": []
          },
          "execution_count": 16
        }
      ]
    },
    {
      "cell_type": "code",
      "metadata": {
        "id": "94560cfa"
      },
      "source": [
        "df_raw = df.copy(deep=True)"
      ],
      "id": "94560cfa",
      "execution_count": null,
      "outputs": []
    },
    {
      "cell_type": "code",
      "metadata": {
        "colab": {
          "base_uri": "https://localhost:8080/"
        },
        "id": "14ce25e5",
        "outputId": "43d74ee6-320b-4c59-9d08-109634f1c598"
      },
      "source": [
        "df['class'].value_counts() * 100 /len(df['class'])\n"
      ],
      "id": "14ce25e5",
      "execution_count": null,
      "outputs": [
        {
          "output_type": "execute_result",
          "data": {
            "text/plain": [
              "0    93.421053\n",
              "1     6.578947\n",
              "Name: class, dtype: float64"
            ]
          },
          "metadata": {
            "tags": []
          },
          "execution_count": 18
        }
      ]
    },
    {
      "cell_type": "code",
      "metadata": {
        "colab": {
          "base_uri": "https://localhost:8080/",
          "height": 178
        },
        "id": "b8a8e4d3",
        "outputId": "bf7ee160-d357-4949-ebfd-b5d0f77a1afd"
      },
      "source": [
        "colors = sns.color_palette([sns.color_palette(\"gist_earth_r\")[2], sns.color_palette(\"gist_earth_r\")[5]])\n",
        "sns.palplot(sns.color_palette(\"gist_earth_r\")[2]), sns.palplot(sns.color_palette(\"gist_earth_r\")[5])"
      ],
      "id": "b8a8e4d3",
      "execution_count": null,
      "outputs": [
        {
          "output_type": "execute_result",
          "data": {
            "text/plain": [
              "(None, None)"
            ]
          },
          "metadata": {
            "tags": []
          },
          "execution_count": 19
        },
        {
          "output_type": "display_data",
          "data": {
            "image/png": "[encoded data removed]",
            "text/plain": [
              "<Figure size 216x72 with 1 Axes>"
            ]
          },
          "metadata": {
            "tags": [],
            "needs_background": "light"
          }
        },
        {
          "output_type": "display_data",
          "data": {
            "image/png": "[encoded data removed]",
            "text/plain": [
              "<Figure size 216x72 with 1 Axes>"
            ]
          },
          "metadata": {
            "tags": [],
            "needs_background": "light"
          }
        }
      ]
    },
    {
      "cell_type": "code",
      "metadata": {
        "colab": {
          "base_uri": "https://localhost:8080/",
          "height": 297
        },
        "id": "43029c06",
        "outputId": "2376f27b-6a56-4fae-e830-ba3d256dc5d5"
      },
      "source": [
        "sns.countplot(x=label, data=df, palette=colors)\n",
        "plt.xlabel('CLASS')\n",
        "plt.ylabel('COUNT')"
      ],
      "id": "43029c06",
      "execution_count": null,
      "outputs": [
        {
          "output_type": "execute_result",
          "data": {
            "text/plain": [
              "Text(0, 0.5, 'COUNT')"
            ]
          },
          "metadata": {
            "tags": []
          },
          "execution_count": 20
        },
        {
          "output_type": "display_data",
          "data": {
            "image/png": "[encoded data removed]",
            "text/plain": [
              "<Figure size 432x288 with 1 Axes>"
            ]
          },
          "metadata": {
            "tags": [],
            "needs_background": "light"
          }
        }
      ]
    },
    {
      "cell_type": "code",
      "metadata": {
        "colab": {
          "base_uri": "https://localhost:8080/",
          "height": 880
        },
        "id": "7b733960",
        "outputId": "8f53d620-96ab-4d0e-b3e1-ab7d8c0742ee"
      },
      "source": [
        "plt.style.use('ggplot')  \n",
        "\n",
        "f, ax = plt.subplots(figsize=(11, 15))\n",
        "\n",
        "ax.set_facecolor('#fafafa')\n",
        "ax.set(xlim=(-.05, 200))\n",
        "plt.ylabel('Variables')\n",
        "plt.title(\"Overview Data Set\")\n",
        "ax = sns.boxplot(data = df, \n",
        "  orient = 'h', \n",
        "  palette = 'Set2')"
      ],
      "id": "7b733960",
      "execution_count": null,
      "outputs": [
        {
          "output_type": "display_data",
          "data": {
            "image/png": "[encoded data removed]",
            "text/plain": [
              "<Figure size 792x1080 with 1 Axes>"
            ]
          },
          "metadata": {
            "tags": []
          }
        }
      ]
    },
    {
      "cell_type": "code",
      "metadata": {
        "id": "b1c7a0e1"
      },
      "source": [
        "def one_hot_encoder(col_name, df):\n",
        "    label_encoder = LabelEncoder()\n",
        "    onehot_encoder = OneHotEncoder(drop='first', sparse=False)\n",
        "    try:\n",
        "        encoded_array = label_encoder.fit_transform(df[col_name])\n",
        "#         SKLEARN IMPLEMENTATION\n",
        "        encoded_array_reshaped = encoded_array.reshape(len(encoded_array), 1)\n",
        "        one_hot_encoded_array = onehot_encoder.fit_transform(encoded_array_reshaped)\n",
        "#         one_hot_encoded_array = to_categorical(encoded_array)\n",
        "        print(one_hot_encoded_array)\n",
        "        num_features = one_hot_encoded_array.shape[1]\n",
        "        print(\"Number of encoded columns to add: \", num_features)\n",
        "        new_enc_col_names = [col + '_enc_' + str(num) for num in range(0, num_features)] \n",
        "        df_enc = pd.DataFrame(one_hot_encoded_array)\n",
        "        print(\"Shape of encoded df: \", df_enc.shape)\n",
        "        df_enc.columns = new_enc_col_names\n",
        "        print(\"New column names: \", new_enc_col_names)\n",
        "        df = pd.concat([df, df_enc], axis=1)\n",
        "        df.drop(columns=col, inplace=True)\n",
        "        return df\n",
        "    except Exception as e:\n",
        "        print(e)\n",
        "        print(\"Error in encoding feature : \" + col_name)"
      ],
      "id": "b1c7a0e1",
      "execution_count": null,
      "outputs": []
    },
    {
      "cell_type": "code",
      "metadata": {
        "colab": {
          "base_uri": "https://localhost:8080/"
        },
        "id": "66777bd7",
        "outputId": "a045c22c-08bb-46f1-f69b-33a932cea241"
      },
      "source": [
        "for col in col_list_categorical:\n",
        "    df = one_hot_encoder(col, df)\n",
        "df.shape"
      ],
      "id": "66777bd7",
      "execution_count": null,
      "outputs": [
        {
          "output_type": "stream",
          "text": [
            "[[0.]\n",
            " [0.]\n",
            " [0.]\n",
            " ...\n",
            " [1.]\n",
            " [0.]\n",
            " [0.]]\n",
            "Number of encoded columns to add:  1\n",
            "Shape of encoded df:  (2584, 1)\n",
            "New column names:  ['seismic_enc_0']\n",
            "[[0. 0.]\n",
            " [0. 0.]\n",
            " [0. 0.]\n",
            " ...\n",
            " [0. 0.]\n",
            " [0. 0.]\n",
            " [0. 0.]]\n",
            "Number of encoded columns to add:  2\n",
            "Shape of encoded df:  (2584, 2)\n",
            "New column names:  ['seismoacoustic_enc_0', 'seismoacoustic_enc_1']\n",
            "[[0.]\n",
            " [0.]\n",
            " [0.]\n",
            " ...\n",
            " [1.]\n",
            " [1.]\n",
            " [1.]]\n",
            "Number of encoded columns to add:  1\n",
            "Shape of encoded df:  (2584, 1)\n",
            "New column names:  ['shift_enc_0']\n",
            "[[0. 0.]\n",
            " [0. 0.]\n",
            " [0. 0.]\n",
            " ...\n",
            " [0. 0.]\n",
            " [0. 0.]\n",
            " [0. 0.]]\n",
            "Number of encoded columns to add:  2\n",
            "Shape of encoded df:  (2584, 2)\n",
            "New column names:  ['ghazard_enc_0', 'ghazard_enc_1']\n"
          ],
          "name": "stdout"
        },
        {
          "output_type": "execute_result",
          "data": {
            "text/plain": [
              "(2584, 22)"
            ]
          },
          "metadata": {
            "tags": []
          },
          "execution_count": 23
        }
      ]
    },
    {
      "cell_type": "code",
      "metadata": {
        "colab": {
          "base_uri": "https://localhost:8080/",
          "height": 223
        },
        "id": "af2e851b",
        "outputId": "df2d9331-ad1d-46ca-c3e0-56871475febe"
      },
      "source": [
        "df.head()"
      ],
      "id": "af2e851b",
      "execution_count": null,
      "outputs": [
        {
          "output_type": "execute_result",
          "data": {
            "text/html": [
              "<div>\n",
              "<style scoped>\n",
              "    .dataframe tbody tr th:only-of-type {\n",
              "        vertical-align: middle;\n",
              "    }\n",
              "\n",
              "    .dataframe tbody tr th {\n",
              "        vertical-align: top;\n",
              "    }\n",
              "\n",
              "    .dataframe thead th {\n",
              "        text-align: right;\n",
              "    }\n",
              "</style>\n",
              "<table border=\"1\" class=\"dataframe\">\n",
              "  <thead>\n",
              "    <tr style=\"text-align: right;\">\n",
              "      <th></th>\n",
              "      <th>id</th>\n",
              "      <th>genergy</th>\n",
              "      <th>gpuls</th>\n",
              "      <th>gdenergy</th>\n",
              "      <th>gdpuls</th>\n",
              "      <th>nbumps</th>\n",
              "      <th>nbumps2</th>\n",
              "      <th>nbumps3</th>\n",
              "      <th>nbumps4</th>\n",
              "      <th>nbumps5</th>\n",
              "      <th>nbumps6</th>\n",
              "      <th>nbumps7</th>\n",
              "      <th>nbumps89</th>\n",
              "      <th>energy</th>\n",
              "      <th>maxenergy</th>\n",
              "      <th>class</th>\n",
              "      <th>seismic_enc_0</th>\n",
              "      <th>seismoacoustic_enc_0</th>\n",
              "      <th>seismoacoustic_enc_1</th>\n",
              "      <th>shift_enc_0</th>\n",
              "      <th>ghazard_enc_0</th>\n",
              "      <th>ghazard_enc_1</th>\n",
              "    </tr>\n",
              "  </thead>\n",
              "  <tbody>\n",
              "    <tr>\n",
              "      <th>0</th>\n",
              "      <td>1</td>\n",
              "      <td>15180</td>\n",
              "      <td>48</td>\n",
              "      <td>-72</td>\n",
              "      <td>-72</td>\n",
              "      <td>0</td>\n",
              "      <td>0</td>\n",
              "      <td>0</td>\n",
              "      <td>0</td>\n",
              "      <td>0</td>\n",
              "      <td>0</td>\n",
              "      <td>0</td>\n",
              "      <td>0</td>\n",
              "      <td>0</td>\n",
              "      <td>0</td>\n",
              "      <td>0</td>\n",
              "      <td>0.0</td>\n",
              "      <td>0.0</td>\n",
              "      <td>0.0</td>\n",
              "      <td>0.0</td>\n",
              "      <td>0.0</td>\n",
              "      <td>0.0</td>\n",
              "    </tr>\n",
              "    <tr>\n",
              "      <th>1</th>\n",
              "      <td>2</td>\n",
              "      <td>14720</td>\n",
              "      <td>33</td>\n",
              "      <td>-70</td>\n",
              "      <td>-79</td>\n",
              "      <td>1</td>\n",
              "      <td>0</td>\n",
              "      <td>1</td>\n",
              "      <td>0</td>\n",
              "      <td>0</td>\n",
              "      <td>0</td>\n",
              "      <td>0</td>\n",
              "      <td>0</td>\n",
              "      <td>2000</td>\n",
              "      <td>2000</td>\n",
              "      <td>0</td>\n",
              "      <td>0.0</td>\n",
              "      <td>0.0</td>\n",
              "      <td>0.0</td>\n",
              "      <td>0.0</td>\n",
              "      <td>0.0</td>\n",
              "      <td>0.0</td>\n",
              "    </tr>\n",
              "    <tr>\n",
              "      <th>2</th>\n",
              "      <td>3</td>\n",
              "      <td>8050</td>\n",
              "      <td>30</td>\n",
              "      <td>-81</td>\n",
              "      <td>-78</td>\n",
              "      <td>0</td>\n",
              "      <td>0</td>\n",
              "      <td>0</td>\n",
              "      <td>0</td>\n",
              "      <td>0</td>\n",
              "      <td>0</td>\n",
              "      <td>0</td>\n",
              "      <td>0</td>\n",
              "      <td>0</td>\n",
              "      <td>0</td>\n",
              "      <td>0</td>\n",
              "      <td>0.0</td>\n",
              "      <td>0.0</td>\n",
              "      <td>0.0</td>\n",
              "      <td>0.0</td>\n",
              "      <td>0.0</td>\n",
              "      <td>0.0</td>\n",
              "    </tr>\n",
              "    <tr>\n",
              "      <th>3</th>\n",
              "      <td>4</td>\n",
              "      <td>28820</td>\n",
              "      <td>171</td>\n",
              "      <td>-23</td>\n",
              "      <td>40</td>\n",
              "      <td>1</td>\n",
              "      <td>0</td>\n",
              "      <td>1</td>\n",
              "      <td>0</td>\n",
              "      <td>0</td>\n",
              "      <td>0</td>\n",
              "      <td>0</td>\n",
              "      <td>0</td>\n",
              "      <td>3000</td>\n",
              "      <td>3000</td>\n",
              "      <td>0</td>\n",
              "      <td>0.0</td>\n",
              "      <td>0.0</td>\n",
              "      <td>0.0</td>\n",
              "      <td>0.0</td>\n",
              "      <td>0.0</td>\n",
              "      <td>0.0</td>\n",
              "    </tr>\n",
              "    <tr>\n",
              "      <th>4</th>\n",
              "      <td>5</td>\n",
              "      <td>12640</td>\n",
              "      <td>57</td>\n",
              "      <td>-63</td>\n",
              "      <td>-52</td>\n",
              "      <td>0</td>\n",
              "      <td>0</td>\n",
              "      <td>0</td>\n",
              "      <td>0</td>\n",
              "      <td>0</td>\n",
              "      <td>0</td>\n",
              "      <td>0</td>\n",
              "      <td>0</td>\n",
              "      <td>0</td>\n",
              "      <td>0</td>\n",
              "      <td>0</td>\n",
              "      <td>0.0</td>\n",
              "      <td>0.0</td>\n",
              "      <td>0.0</td>\n",
              "      <td>0.0</td>\n",
              "      <td>0.0</td>\n",
              "      <td>0.0</td>\n",
              "    </tr>\n",
              "  </tbody>\n",
              "</table>\n",
              "</div>"
            ],
            "text/plain": [
              "   id  genergy  gpuls  gdenergy  gdpuls  nbumps  nbumps2  nbumps3  nbumps4  \\\n",
              "0   1    15180     48       -72     -72       0        0        0        0   \n",
              "1   2    14720     33       -70     -79       1        0        1        0   \n",
              "2   3     8050     30       -81     -78       0        0        0        0   \n",
              "3   4    28820    171       -23      40       1        0        1        0   \n",
              "4   5    12640     57       -63     -52       0        0        0        0   \n",
              "\n",
              "   nbumps5  nbumps6  nbumps7  nbumps89  energy  maxenergy  class  \\\n",
              "0        0        0        0         0       0          0      0   \n",
              "1        0        0        0         0    2000       2000      0   \n",
              "2        0        0        0         0       0          0      0   \n",
              "3        0        0        0         0    3000       3000      0   \n",
              "4        0        0        0         0       0          0      0   \n",
              "\n",
              "   seismic_enc_0  seismoacoustic_enc_0  seismoacoustic_enc_1  shift_enc_0  \\\n",
              "0            0.0                   0.0                   0.0          0.0   \n",
              "1            0.0                   0.0                   0.0          0.0   \n",
              "2            0.0                   0.0                   0.0          0.0   \n",
              "3            0.0                   0.0                   0.0          0.0   \n",
              "4            0.0                   0.0                   0.0          0.0   \n",
              "\n",
              "   ghazard_enc_0  ghazard_enc_1  \n",
              "0            0.0            0.0  \n",
              "1            0.0            0.0  \n",
              "2            0.0            0.0  \n",
              "3            0.0            0.0  \n",
              "4            0.0            0.0  "
            ]
          },
          "metadata": {
            "tags": []
          },
          "execution_count": 24
        }
      ]
    },
    {
      "cell_type": "code",
      "metadata": {
        "colab": {
          "base_uri": "https://localhost:8080/"
        },
        "id": "21b79e44",
        "outputId": "b9bdf1ee-9329-49bb-86f5-02953dacff9c"
      },
      "source": [
        "df.info()"
      ],
      "id": "21b79e44",
      "execution_count": null,
      "outputs": [
        {
          "output_type": "stream",
          "text": [
            "<class 'pandas.core.frame.DataFrame'>\n",
            "RangeIndex: 2584 entries, 0 to 2583\n",
            "Data columns (total 22 columns):\n",
            " #   Column                Non-Null Count  Dtype  \n",
            "---  ------                --------------  -----  \n",
            " 0   id                    2584 non-null   int64  \n",
            " 1   genergy               2584 non-null   int64  \n",
            " 2   gpuls                 2584 non-null   int64  \n",
            " 3   gdenergy              2584 non-null   int64  \n",
            " 4   gdpuls                2584 non-null   int64  \n",
            " 5   nbumps                2584 non-null   int64  \n",
            " 6   nbumps2               2584 non-null   int64  \n",
            " 7   nbumps3               2584 non-null   int64  \n",
            " 8   nbumps4               2584 non-null   int64  \n",
            " 9   nbumps5               2584 non-null   int64  \n",
            " 10  nbumps6               2584 non-null   int64  \n",
            " 11  nbumps7               2584 non-null   int64  \n",
            " 12  nbumps89              2584 non-null   int64  \n",
            " 13  energy                2584 non-null   int64  \n",
            " 14  maxenergy             2584 non-null   int64  \n",
            " 15  class                 2584 non-null   int64  \n",
            " 16  seismic_enc_0         2584 non-null   float64\n",
            " 17  seismoacoustic_enc_0  2584 non-null   float64\n",
            " 18  seismoacoustic_enc_1  2584 non-null   float64\n",
            " 19  shift_enc_0           2584 non-null   float64\n",
            " 20  ghazard_enc_0         2584 non-null   float64\n",
            " 21  ghazard_enc_1         2584 non-null   float64\n",
            "dtypes: float64(6), int64(16)\n",
            "memory usage: 444.2 KB\n"
          ],
          "name": "stdout"
        }
      ]
    },
    {
      "cell_type": "code",
      "metadata": {
        "colab": {
          "base_uri": "https://localhost:8080/",
          "height": 295
        },
        "id": "65d94902",
        "outputId": "5da75466-d08a-4918-d9a2-e46c0848814b"
      },
      "source": [
        "df[col_list_numerical].describe()"
      ],
      "id": "65d94902",
      "execution_count": null,
      "outputs": [
        {
          "output_type": "execute_result",
          "data": {
            "text/html": [
              "<div>\n",
              "<style scoped>\n",
              "    .dataframe tbody tr th:only-of-type {\n",
              "        vertical-align: middle;\n",
              "    }\n",
              "\n",
              "    .dataframe tbody tr th {\n",
              "        vertical-align: top;\n",
              "    }\n",
              "\n",
              "    .dataframe thead th {\n",
              "        text-align: right;\n",
              "    }\n",
              "</style>\n",
              "<table border=\"1\" class=\"dataframe\">\n",
              "  <thead>\n",
              "    <tr style=\"text-align: right;\">\n",
              "      <th></th>\n",
              "      <th>genergy</th>\n",
              "      <th>gpuls</th>\n",
              "      <th>gdenergy</th>\n",
              "      <th>gdpuls</th>\n",
              "      <th>energy</th>\n",
              "      <th>maxenergy</th>\n",
              "    </tr>\n",
              "  </thead>\n",
              "  <tbody>\n",
              "    <tr>\n",
              "      <th>count</th>\n",
              "      <td>2.584000e+03</td>\n",
              "      <td>2584.000000</td>\n",
              "      <td>2584.000000</td>\n",
              "      <td>2584.000000</td>\n",
              "      <td>2584.000000</td>\n",
              "      <td>2584.000000</td>\n",
              "    </tr>\n",
              "    <tr>\n",
              "      <th>mean</th>\n",
              "      <td>9.024252e+04</td>\n",
              "      <td>538.579334</td>\n",
              "      <td>12.375774</td>\n",
              "      <td>4.508901</td>\n",
              "      <td>4975.270898</td>\n",
              "      <td>4278.850619</td>\n",
              "    </tr>\n",
              "    <tr>\n",
              "      <th>std</th>\n",
              "      <td>2.292005e+05</td>\n",
              "      <td>562.652536</td>\n",
              "      <td>80.319051</td>\n",
              "      <td>63.166556</td>\n",
              "      <td>20450.833222</td>\n",
              "      <td>19357.454882</td>\n",
              "    </tr>\n",
              "    <tr>\n",
              "      <th>min</th>\n",
              "      <td>1.000000e+02</td>\n",
              "      <td>2.000000</td>\n",
              "      <td>-96.000000</td>\n",
              "      <td>-96.000000</td>\n",
              "      <td>0.000000</td>\n",
              "      <td>0.000000</td>\n",
              "    </tr>\n",
              "    <tr>\n",
              "      <th>25%</th>\n",
              "      <td>1.166000e+04</td>\n",
              "      <td>190.000000</td>\n",
              "      <td>-37.000000</td>\n",
              "      <td>-36.000000</td>\n",
              "      <td>0.000000</td>\n",
              "      <td>0.000000</td>\n",
              "    </tr>\n",
              "    <tr>\n",
              "      <th>50%</th>\n",
              "      <td>2.548500e+04</td>\n",
              "      <td>379.000000</td>\n",
              "      <td>-6.000000</td>\n",
              "      <td>-6.000000</td>\n",
              "      <td>0.000000</td>\n",
              "      <td>0.000000</td>\n",
              "    </tr>\n",
              "    <tr>\n",
              "      <th>75%</th>\n",
              "      <td>5.283250e+04</td>\n",
              "      <td>669.000000</td>\n",
              "      <td>38.000000</td>\n",
              "      <td>30.250000</td>\n",
              "      <td>2600.000000</td>\n",
              "      <td>2000.000000</td>\n",
              "    </tr>\n",
              "    <tr>\n",
              "      <th>max</th>\n",
              "      <td>2.595650e+06</td>\n",
              "      <td>4518.000000</td>\n",
              "      <td>1245.000000</td>\n",
              "      <td>838.000000</td>\n",
              "      <td>402000.000000</td>\n",
              "      <td>400000.000000</td>\n",
              "    </tr>\n",
              "  </tbody>\n",
              "</table>\n",
              "</div>"
            ],
            "text/plain": [
              "            genergy        gpuls     gdenergy       gdpuls         energy  \\\n",
              "count  2.584000e+03  2584.000000  2584.000000  2584.000000    2584.000000   \n",
              "mean   9.024252e+04   538.579334    12.375774     4.508901    4975.270898   \n",
              "std    2.292005e+05   562.652536    80.319051    63.166556   20450.833222   \n",
              "min    1.000000e+02     2.000000   -96.000000   -96.000000       0.000000   \n",
              "25%    1.166000e+04   190.000000   -37.000000   -36.000000       0.000000   \n",
              "50%    2.548500e+04   379.000000    -6.000000    -6.000000       0.000000   \n",
              "75%    5.283250e+04   669.000000    38.000000    30.250000    2600.000000   \n",
              "max    2.595650e+06  4518.000000  1245.000000   838.000000  402000.000000   \n",
              "\n",
              "           maxenergy  \n",
              "count    2584.000000  \n",
              "mean     4278.850619  \n",
              "std     19357.454882  \n",
              "min         0.000000  \n",
              "25%         0.000000  \n",
              "50%         0.000000  \n",
              "75%      2000.000000  \n",
              "max    400000.000000  "
            ]
          },
          "metadata": {
            "tags": []
          },
          "execution_count": 26
        }
      ]
    },
    {
      "cell_type": "code",
      "metadata": {
        "colab": {
          "base_uri": "https://localhost:8080/",
          "height": 315
        },
        "id": "f00ee1b6",
        "outputId": "ab9aff62-9bbd-4f97-fa71-91a79dc84ed1"
      },
      "source": [
        "df.describe()"
      ],
      "id": "f00ee1b6",
      "execution_count": null,
      "outputs": [
        {
          "output_type": "execute_result",
          "data": {
            "text/html": [
              "<div>\n",
              "<style scoped>\n",
              "    .dataframe tbody tr th:only-of-type {\n",
              "        vertical-align: middle;\n",
              "    }\n",
              "\n",
              "    .dataframe tbody tr th {\n",
              "        vertical-align: top;\n",
              "    }\n",
              "\n",
              "    .dataframe thead th {\n",
              "        text-align: right;\n",
              "    }\n",
              "</style>\n",
              "<table border=\"1\" class=\"dataframe\">\n",
              "  <thead>\n",
              "    <tr style=\"text-align: right;\">\n",
              "      <th></th>\n",
              "      <th>id</th>\n",
              "      <th>genergy</th>\n",
              "      <th>gpuls</th>\n",
              "      <th>gdenergy</th>\n",
              "      <th>gdpuls</th>\n",
              "      <th>nbumps</th>\n",
              "      <th>nbumps2</th>\n",
              "      <th>nbumps3</th>\n",
              "      <th>nbumps4</th>\n",
              "      <th>nbumps5</th>\n",
              "      <th>nbumps6</th>\n",
              "      <th>nbumps7</th>\n",
              "      <th>nbumps89</th>\n",
              "      <th>energy</th>\n",
              "      <th>maxenergy</th>\n",
              "      <th>class</th>\n",
              "      <th>seismic_enc_0</th>\n",
              "      <th>seismoacoustic_enc_0</th>\n",
              "      <th>seismoacoustic_enc_1</th>\n",
              "      <th>shift_enc_0</th>\n",
              "      <th>ghazard_enc_0</th>\n",
              "      <th>ghazard_enc_1</th>\n",
              "    </tr>\n",
              "  </thead>\n",
              "  <tbody>\n",
              "    <tr>\n",
              "      <th>count</th>\n",
              "      <td>2584.000000</td>\n",
              "      <td>2.584000e+03</td>\n",
              "      <td>2584.000000</td>\n",
              "      <td>2584.000000</td>\n",
              "      <td>2584.000000</td>\n",
              "      <td>2584.000000</td>\n",
              "      <td>2584.000000</td>\n",
              "      <td>2584.000000</td>\n",
              "      <td>2584.000000</td>\n",
              "      <td>2584.000000</td>\n",
              "      <td>2584.0</td>\n",
              "      <td>2584.0</td>\n",
              "      <td>2584.0</td>\n",
              "      <td>2584.000000</td>\n",
              "      <td>2584.000000</td>\n",
              "      <td>2584.000000</td>\n",
              "      <td>2584.000000</td>\n",
              "      <td>2584.000000</td>\n",
              "      <td>2584.000000</td>\n",
              "      <td>2584.000000</td>\n",
              "      <td>2584.000000</td>\n",
              "      <td>2584.000000</td>\n",
              "    </tr>\n",
              "    <tr>\n",
              "      <th>mean</th>\n",
              "      <td>1292.500000</td>\n",
              "      <td>9.024252e+04</td>\n",
              "      <td>538.579334</td>\n",
              "      <td>12.375774</td>\n",
              "      <td>4.508901</td>\n",
              "      <td>0.859520</td>\n",
              "      <td>0.393576</td>\n",
              "      <td>0.392802</td>\n",
              "      <td>0.067724</td>\n",
              "      <td>0.004644</td>\n",
              "      <td>0.0</td>\n",
              "      <td>0.0</td>\n",
              "      <td>0.0</td>\n",
              "      <td>4975.270898</td>\n",
              "      <td>4278.850619</td>\n",
              "      <td>0.065789</td>\n",
              "      <td>0.349071</td>\n",
              "      <td>0.369969</td>\n",
              "      <td>0.018576</td>\n",
              "      <td>0.643576</td>\n",
              "      <td>0.082043</td>\n",
              "      <td>0.011610</td>\n",
              "    </tr>\n",
              "    <tr>\n",
              "      <th>std</th>\n",
              "      <td>746.080871</td>\n",
              "      <td>2.292005e+05</td>\n",
              "      <td>562.652536</td>\n",
              "      <td>80.319051</td>\n",
              "      <td>63.166556</td>\n",
              "      <td>1.364616</td>\n",
              "      <td>0.783772</td>\n",
              "      <td>0.769710</td>\n",
              "      <td>0.279059</td>\n",
              "      <td>0.068001</td>\n",
              "      <td>0.0</td>\n",
              "      <td>0.0</td>\n",
              "      <td>0.0</td>\n",
              "      <td>20450.833222</td>\n",
              "      <td>19357.454882</td>\n",
              "      <td>0.247962</td>\n",
              "      <td>0.476769</td>\n",
              "      <td>0.482889</td>\n",
              "      <td>0.135048</td>\n",
              "      <td>0.479035</td>\n",
              "      <td>0.274484</td>\n",
              "      <td>0.107143</td>\n",
              "    </tr>\n",
              "    <tr>\n",
              "      <th>min</th>\n",
              "      <td>1.000000</td>\n",
              "      <td>1.000000e+02</td>\n",
              "      <td>2.000000</td>\n",
              "      <td>-96.000000</td>\n",
              "      <td>-96.000000</td>\n",
              "      <td>0.000000</td>\n",
              "      <td>0.000000</td>\n",
              "      <td>0.000000</td>\n",
              "      <td>0.000000</td>\n",
              "      <td>0.000000</td>\n",
              "      <td>0.0</td>\n",
              "      <td>0.0</td>\n",
              "      <td>0.0</td>\n",
              "      <td>0.000000</td>\n",
              "      <td>0.000000</td>\n",
              "      <td>0.000000</td>\n",
              "      <td>0.000000</td>\n",
              "      <td>0.000000</td>\n",
              "      <td>0.000000</td>\n",
              "      <td>0.000000</td>\n",
              "      <td>0.000000</td>\n",
              "      <td>0.000000</td>\n",
              "    </tr>\n",
              "    <tr>\n",
              "      <th>25%</th>\n",
              "      <td>646.750000</td>\n",
              "      <td>1.166000e+04</td>\n",
              "      <td>190.000000</td>\n",
              "      <td>-37.000000</td>\n",
              "      <td>-36.000000</td>\n",
              "      <td>0.000000</td>\n",
              "      <td>0.000000</td>\n",
              "      <td>0.000000</td>\n",
              "      <td>0.000000</td>\n",
              "      <td>0.000000</td>\n",
              "      <td>0.0</td>\n",
              "      <td>0.0</td>\n",
              "      <td>0.0</td>\n",
              "      <td>0.000000</td>\n",
              "      <td>0.000000</td>\n",
              "      <td>0.000000</td>\n",
              "      <td>0.000000</td>\n",
              "      <td>0.000000</td>\n",
              "      <td>0.000000</td>\n",
              "      <td>0.000000</td>\n",
              "      <td>0.000000</td>\n",
              "      <td>0.000000</td>\n",
              "    </tr>\n",
              "    <tr>\n",
              "      <th>50%</th>\n",
              "      <td>1292.500000</td>\n",
              "      <td>2.548500e+04</td>\n",
              "      <td>379.000000</td>\n",
              "      <td>-6.000000</td>\n",
              "      <td>-6.000000</td>\n",
              "      <td>0.000000</td>\n",
              "      <td>0.000000</td>\n",
              "      <td>0.000000</td>\n",
              "      <td>0.000000</td>\n",
              "      <td>0.000000</td>\n",
              "      <td>0.0</td>\n",
              "      <td>0.0</td>\n",
              "      <td>0.0</td>\n",
              "      <td>0.000000</td>\n",
              "      <td>0.000000</td>\n",
              "      <td>0.000000</td>\n",
              "      <td>0.000000</td>\n",
              "      <td>0.000000</td>\n",
              "      <td>0.000000</td>\n",
              "      <td>1.000000</td>\n",
              "      <td>0.000000</td>\n",
              "      <td>0.000000</td>\n",
              "    </tr>\n",
              "    <tr>\n",
              "      <th>75%</th>\n",
              "      <td>1938.250000</td>\n",
              "      <td>5.283250e+04</td>\n",
              "      <td>669.000000</td>\n",
              "      <td>38.000000</td>\n",
              "      <td>30.250000</td>\n",
              "      <td>1.000000</td>\n",
              "      <td>1.000000</td>\n",
              "      <td>1.000000</td>\n",
              "      <td>0.000000</td>\n",
              "      <td>0.000000</td>\n",
              "      <td>0.0</td>\n",
              "      <td>0.0</td>\n",
              "      <td>0.0</td>\n",
              "      <td>2600.000000</td>\n",
              "      <td>2000.000000</td>\n",
              "      <td>0.000000</td>\n",
              "      <td>1.000000</td>\n",
              "      <td>1.000000</td>\n",
              "      <td>0.000000</td>\n",
              "      <td>1.000000</td>\n",
              "      <td>0.000000</td>\n",
              "      <td>0.000000</td>\n",
              "    </tr>\n",
              "    <tr>\n",
              "      <th>max</th>\n",
              "      <td>2584.000000</td>\n",
              "      <td>2.595650e+06</td>\n",
              "      <td>4518.000000</td>\n",
              "      <td>1245.000000</td>\n",
              "      <td>838.000000</td>\n",
              "      <td>9.000000</td>\n",
              "      <td>8.000000</td>\n",
              "      <td>7.000000</td>\n",
              "      <td>3.000000</td>\n",
              "      <td>1.000000</td>\n",
              "      <td>0.0</td>\n",
              "      <td>0.0</td>\n",
              "      <td>0.0</td>\n",
              "      <td>402000.000000</td>\n",
              "      <td>400000.000000</td>\n",
              "      <td>1.000000</td>\n",
              "      <td>1.000000</td>\n",
              "      <td>1.000000</td>\n",
              "      <td>1.000000</td>\n",
              "      <td>1.000000</td>\n",
              "      <td>1.000000</td>\n",
              "      <td>1.000000</td>\n",
              "    </tr>\n",
              "  </tbody>\n",
              "</table>\n",
              "</div>"
            ],
            "text/plain": [
              "                id       genergy        gpuls     gdenergy       gdpuls  \\\n",
              "count  2584.000000  2.584000e+03  2584.000000  2584.000000  2584.000000   \n",
              "mean   1292.500000  9.024252e+04   538.579334    12.375774     4.508901   \n",
              "std     746.080871  2.292005e+05   562.652536    80.319051    63.166556   \n",
              "min       1.000000  1.000000e+02     2.000000   -96.000000   -96.000000   \n",
              "25%     646.750000  1.166000e+04   190.000000   -37.000000   -36.000000   \n",
              "50%    1292.500000  2.548500e+04   379.000000    -6.000000    -6.000000   \n",
              "75%    1938.250000  5.283250e+04   669.000000    38.000000    30.250000   \n",
              "max    2584.000000  2.595650e+06  4518.000000  1245.000000   838.000000   \n",
              "\n",
              "            nbumps      nbumps2      nbumps3      nbumps4      nbumps5  \\\n",
              "count  2584.000000  2584.000000  2584.000000  2584.000000  2584.000000   \n",
              "mean      0.859520     0.393576     0.392802     0.067724     0.004644   \n",
              "std       1.364616     0.783772     0.769710     0.279059     0.068001   \n",
              "min       0.000000     0.000000     0.000000     0.000000     0.000000   \n",
              "25%       0.000000     0.000000     0.000000     0.000000     0.000000   \n",
              "50%       0.000000     0.000000     0.000000     0.000000     0.000000   \n",
              "75%       1.000000     1.000000     1.000000     0.000000     0.000000   \n",
              "max       9.000000     8.000000     7.000000     3.000000     1.000000   \n",
              "\n",
              "       nbumps6  nbumps7  nbumps89         energy      maxenergy        class  \\\n",
              "count   2584.0   2584.0    2584.0    2584.000000    2584.000000  2584.000000   \n",
              "mean       0.0      0.0       0.0    4975.270898    4278.850619     0.065789   \n",
              "std        0.0      0.0       0.0   20450.833222   19357.454882     0.247962   \n",
              "min        0.0      0.0       0.0       0.000000       0.000000     0.000000   \n",
              "25%        0.0      0.0       0.0       0.000000       0.000000     0.000000   \n",
              "50%        0.0      0.0       0.0       0.000000       0.000000     0.000000   \n",
              "75%        0.0      0.0       0.0    2600.000000    2000.000000     0.000000   \n",
              "max        0.0      0.0       0.0  402000.000000  400000.000000     1.000000   \n",
              "\n",
              "       seismic_enc_0  seismoacoustic_enc_0  seismoacoustic_enc_1  shift_enc_0  \\\n",
              "count    2584.000000           2584.000000           2584.000000  2584.000000   \n",
              "mean        0.349071              0.369969              0.018576     0.643576   \n",
              "std         0.476769              0.482889              0.135048     0.479035   \n",
              "min         0.000000              0.000000              0.000000     0.000000   \n",
              "25%         0.000000              0.000000              0.000000     0.000000   \n",
              "50%         0.000000              0.000000              0.000000     1.000000   \n",
              "75%         1.000000              1.000000              0.000000     1.000000   \n",
              "max         1.000000              1.000000              1.000000     1.000000   \n",
              "\n",
              "       ghazard_enc_0  ghazard_enc_1  \n",
              "count    2584.000000    2584.000000  \n",
              "mean        0.082043       0.011610  \n",
              "std         0.274484       0.107143  \n",
              "min         0.000000       0.000000  \n",
              "25%         0.000000       0.000000  \n",
              "50%         0.000000       0.000000  \n",
              "75%         0.000000       0.000000  \n",
              "max         1.000000       1.000000  "
            ]
          },
          "metadata": {
            "tags": []
          },
          "execution_count": 27
        }
      ]
    },
    {
      "cell_type": "code",
      "metadata": {
        "id": "6e3890a5"
      },
      "source": [
        "\n",
        "df_corr = df[col_list_numerical].corr()"
      ],
      "id": "6e3890a5",
      "execution_count": null,
      "outputs": []
    },
    {
      "cell_type": "code",
      "metadata": {
        "colab": {
          "base_uri": "https://localhost:8080/",
          "height": 234
        },
        "id": "c901f3a9",
        "outputId": "e1d52a61-2312-4604-92bb-877a34c2e779"
      },
      "source": [
        "df_corr"
      ],
      "id": "c901f3a9",
      "execution_count": null,
      "outputs": [
        {
          "output_type": "execute_result",
          "data": {
            "text/html": [
              "<div>\n",
              "<style scoped>\n",
              "    .dataframe tbody tr th:only-of-type {\n",
              "        vertical-align: middle;\n",
              "    }\n",
              "\n",
              "    .dataframe tbody tr th {\n",
              "        vertical-align: top;\n",
              "    }\n",
              "\n",
              "    .dataframe thead th {\n",
              "        text-align: right;\n",
              "    }\n",
              "</style>\n",
              "<table border=\"1\" class=\"dataframe\">\n",
              "  <thead>\n",
              "    <tr style=\"text-align: right;\">\n",
              "      <th></th>\n",
              "      <th>genergy</th>\n",
              "      <th>gpuls</th>\n",
              "      <th>gdenergy</th>\n",
              "      <th>gdpuls</th>\n",
              "      <th>energy</th>\n",
              "      <th>maxenergy</th>\n",
              "    </tr>\n",
              "  </thead>\n",
              "  <tbody>\n",
              "    <tr>\n",
              "      <th>genergy</th>\n",
              "      <td>1.000000</td>\n",
              "      <td>0.748020</td>\n",
              "      <td>0.048514</td>\n",
              "      <td>0.071554</td>\n",
              "      <td>0.080828</td>\n",
              "      <td>0.064405</td>\n",
              "    </tr>\n",
              "    <tr>\n",
              "      <th>gpuls</th>\n",
              "      <td>0.748020</td>\n",
              "      <td>1.000000</td>\n",
              "      <td>0.293036</td>\n",
              "      <td>0.382906</td>\n",
              "      <td>0.187350</td>\n",
              "      <td>0.164263</td>\n",
              "    </tr>\n",
              "    <tr>\n",
              "      <th>gdenergy</th>\n",
              "      <td>0.048514</td>\n",
              "      <td>0.293036</td>\n",
              "      <td>1.000000</td>\n",
              "      <td>0.811944</td>\n",
              "      <td>0.105971</td>\n",
              "      <td>0.108572</td>\n",
              "    </tr>\n",
              "    <tr>\n",
              "      <th>gdpuls</th>\n",
              "      <td>0.071554</td>\n",
              "      <td>0.382906</td>\n",
              "      <td>0.811944</td>\n",
              "      <td>1.000000</td>\n",
              "      <td>0.143277</td>\n",
              "      <td>0.143646</td>\n",
              "    </tr>\n",
              "    <tr>\n",
              "      <th>energy</th>\n",
              "      <td>0.080828</td>\n",
              "      <td>0.187350</td>\n",
              "      <td>0.105971</td>\n",
              "      <td>0.143277</td>\n",
              "      <td>1.000000</td>\n",
              "      <td>0.989547</td>\n",
              "    </tr>\n",
              "    <tr>\n",
              "      <th>maxenergy</th>\n",
              "      <td>0.064405</td>\n",
              "      <td>0.164263</td>\n",
              "      <td>0.108572</td>\n",
              "      <td>0.143646</td>\n",
              "      <td>0.989547</td>\n",
              "      <td>1.000000</td>\n",
              "    </tr>\n",
              "  </tbody>\n",
              "</table>\n",
              "</div>"
            ],
            "text/plain": [
              "            genergy     gpuls  gdenergy    gdpuls    energy  maxenergy\n",
              "genergy    1.000000  0.748020  0.048514  0.071554  0.080828   0.064405\n",
              "gpuls      0.748020  1.000000  0.293036  0.382906  0.187350   0.164263\n",
              "gdenergy   0.048514  0.293036  1.000000  0.811944  0.105971   0.108572\n",
              "gdpuls     0.071554  0.382906  0.811944  1.000000  0.143277   0.143646\n",
              "energy     0.080828  0.187350  0.105971  0.143277  1.000000   0.989547\n",
              "maxenergy  0.064405  0.164263  0.108572  0.143646  0.989547   1.000000"
            ]
          },
          "metadata": {
            "tags": []
          },
          "execution_count": 29
        }
      ]
    },
    {
      "cell_type": "code",
      "metadata": {
        "colab": {
          "base_uri": "https://localhost:8080/",
          "height": 528
        },
        "id": "825bdaab",
        "outputId": "ef03f96a-409e-4fd5-ff86-243a380f1d15"
      },
      "source": [
        "plt.figure(figsize=[8, 8])\n",
        "sns.heatmap(data=df_corr, vmin=-1, vmax=1, cmap='gist_earth_r', annot=True, square=True, linewidths=1)\n",
        "plt.xticks(rotation=90)\n",
        "plt.yticks(rotation=0)"
      ],
      "id": "825bdaab",
      "execution_count": null,
      "outputs": [
        {
          "output_type": "execute_result",
          "data": {
            "text/plain": [
              "(array([0.5, 1.5, 2.5, 3.5, 4.5, 5.5]),\n",
              " <a list of 6 Text major ticklabel objects>)"
            ]
          },
          "metadata": {
            "tags": []
          },
          "execution_count": 30
        },
        {
          "output_type": "display_data",
          "data": {
            "image/png": "[encoded data removed]",
            "text/plain": [
              "<Figure size 576x576 with 2 Axes>"
            ]
          },
          "metadata": {
            "tags": []
          }
        }
      ]
    },
    {
      "cell_type": "code",
      "metadata": {
        "colab": {
          "base_uri": "https://localhost:8080/",
          "height": 363
        },
        "id": "963c31f7",
        "outputId": "403d4d22-2a1b-46d2-f8de-f859a109c4dc"
      },
      "source": [
        "sns.distplot(df['genergy'], hist=True)"
      ],
      "id": "963c31f7",
      "execution_count": null,
      "outputs": [
        {
          "output_type": "stream",
          "text": [
            "/usr/local/lib/python3.7/dist-packages/seaborn/distributions.py:2557: FutureWarning: `distplot` is a deprecated function and will be removed in a future version. Please adapt your code to use either `displot` (a figure-level function with similar flexibility) or `histplot` (an axes-level function for histograms).\n",
            "  warnings.warn(msg, FutureWarning)\n"
          ],
          "name": "stderr"
        },
        {
          "output_type": "execute_result",
          "data": {
            "text/plain": [
              "<matplotlib.axes._subplots.AxesSubplot at 0x7f21e126a890>"
            ]
          },
          "metadata": {
            "tags": []
          },
          "execution_count": 31
        },
        {
          "output_type": "display_data",
          "data": {
            "image/png": "[encoded data removed]",
            "text/plain": [
              "<Figure size 432x288 with 1 Axes>"
            ]
          },
          "metadata": {
            "tags": []
          }
        }
      ]
    },
    {
      "cell_type": "code",
      "metadata": {
        "colab": {
          "base_uri": "https://localhost:8080/",
          "height": 353
        },
        "id": "7c183665",
        "outputId": "3d1be298-de73-4200-a10b-0af97624a5d7"
      },
      "source": [
        "sns.distplot(np.log(df['genergy']), hist=True)"
      ],
      "id": "7c183665",
      "execution_count": null,
      "outputs": [
        {
          "output_type": "stream",
          "text": [
            "/usr/local/lib/python3.7/dist-packages/seaborn/distributions.py:2557: FutureWarning: `distplot` is a deprecated function and will be removed in a future version. Please adapt your code to use either `displot` (a figure-level function with similar flexibility) or `histplot` (an axes-level function for histograms).\n",
            "  warnings.warn(msg, FutureWarning)\n"
          ],
          "name": "stderr"
        },
        {
          "output_type": "execute_result",
          "data": {
            "text/plain": [
              "<matplotlib.axes._subplots.AxesSubplot at 0x7f21df17dfd0>"
            ]
          },
          "metadata": {
            "tags": []
          },
          "execution_count": 32
        },
        {
          "output_type": "display_data",
          "data": {
            "image/png": "[encoded data removed]",
            "text/plain": [
              "<Figure size 432x288 with 1 Axes>"
            ]
          },
          "metadata": {
            "tags": []
          }
        }
      ]
    },
    {
      "cell_type": "code",
      "metadata": {
        "colab": {
          "base_uri": "https://localhost:8080/",
          "height": 354
        },
        "id": "871a2a80",
        "outputId": "806cbd13-ec22-474a-9232-f6eb3e3766e6"
      },
      "source": [
        "\n",
        "sns.distplot(df['gpuls'], hist=True)"
      ],
      "id": "871a2a80",
      "execution_count": null,
      "outputs": [
        {
          "output_type": "stream",
          "text": [
            "/usr/local/lib/python3.7/dist-packages/seaborn/distributions.py:2557: FutureWarning: `distplot` is a deprecated function and will be removed in a future version. Please adapt your code to use either `displot` (a figure-level function with similar flexibility) or `histplot` (an axes-level function for histograms).\n",
            "  warnings.warn(msg, FutureWarning)\n"
          ],
          "name": "stderr"
        },
        {
          "output_type": "execute_result",
          "data": {
            "text/plain": [
              "<matplotlib.axes._subplots.AxesSubplot at 0x7f21df0882d0>"
            ]
          },
          "metadata": {
            "tags": []
          },
          "execution_count": 33
        },
        {
          "output_type": "display_data",
          "data": {
            "image/png": "[encoded data removed]",
            "text/plain": [
              "<Figure size 432x288 with 1 Axes>"
            ]
          },
          "metadata": {
            "tags": []
          }
        }
      ]
    },
    {
      "cell_type": "code",
      "metadata": {
        "colab": {
          "base_uri": "https://localhost:8080/",
          "height": 355
        },
        "id": "0b5df616",
        "outputId": "da8e0af1-9a62-4b50-9cfb-b9fcba3d160e"
      },
      "source": [
        "\n",
        "sns.distplot(np.log(df['gpuls']), hist=True)"
      ],
      "id": "0b5df616",
      "execution_count": null,
      "outputs": [
        {
          "output_type": "stream",
          "text": [
            "/usr/local/lib/python3.7/dist-packages/seaborn/distributions.py:2557: FutureWarning: `distplot` is a deprecated function and will be removed in a future version. Please adapt your code to use either `displot` (a figure-level function with similar flexibility) or `histplot` (an axes-level function for histograms).\n",
            "  warnings.warn(msg, FutureWarning)\n"
          ],
          "name": "stderr"
        },
        {
          "output_type": "execute_result",
          "data": {
            "text/plain": [
              "<matplotlib.axes._subplots.AxesSubplot at 0x7f21def7eed0>"
            ]
          },
          "metadata": {
            "tags": []
          },
          "execution_count": 34
        },
        {
          "output_type": "display_data",
          "data": {
            "image/png": "[encoded data removed]",
            "text/plain": [
              "<Figure size 432x288 with 1 Axes>"
            ]
          },
          "metadata": {
            "tags": []
          }
        }
      ]
    },
    {
      "cell_type": "code",
      "metadata": {
        "colab": {
          "base_uri": "https://localhost:8080/",
          "height": 517
        },
        "id": "e9fb0b02",
        "outputId": "5946886b-ab75-4911-9e36-dee648058e77"
      },
      "source": [
        "plt.figure(figsize=[10, 8])\n",
        "sns.scatterplot(x='genergy', y='gpuls', hue='class', data=df)"
      ],
      "id": "e9fb0b02",
      "execution_count": null,
      "outputs": [
        {
          "output_type": "execute_result",
          "data": {
            "text/plain": [
              "<matplotlib.axes._subplots.AxesSubplot at 0x7f21def4ec90>"
            ]
          },
          "metadata": {
            "tags": []
          },
          "execution_count": 35
        },
        {
          "output_type": "display_data",
          "data": {
            "image/png": "[encoded data removed]",
            "text/plain": [
              "<Figure size 720x576 with 1 Axes>"
            ]
          },
          "metadata": {
            "tags": []
          }
        }
      ]
    },
    {
      "cell_type": "code",
      "metadata": {
        "id": "17896b60"
      },
      "source": [
        "df['log_t_genergy'] = np.log(df['genergy'])\n",
        "df['log_t_gpuls'] = np.log(df['gpuls'])"
      ],
      "id": "17896b60",
      "execution_count": null,
      "outputs": []
    },
    {
      "cell_type": "code",
      "metadata": {
        "colab": {
          "base_uri": "https://localhost:8080/",
          "height": 517
        },
        "id": "4d5d43fd",
        "outputId": "ad2c2e81-f96f-4406-b3b1-f618acaf86fc"
      },
      "source": [
        "plt.figure(figsize=[10, 8])\n",
        "sns.scatterplot(x='log_t_genergy', y='log_t_gpuls', hue='class', data=df)"
      ],
      "id": "4d5d43fd",
      "execution_count": null,
      "outputs": [
        {
          "output_type": "execute_result",
          "data": {
            "text/plain": [
              "<matplotlib.axes._subplots.AxesSubplot at 0x7f21defdf990>"
            ]
          },
          "metadata": {
            "tags": []
          },
          "execution_count": 37
        },
        {
          "output_type": "display_data",
          "data": {
            "image/png": "[encoded data removed]",
            "text/plain": [
              "<Figure size 720x576 with 1 Axes>"
            ]
          },
          "metadata": {
            "tags": []
          }
        }
      ]
    },
    {
      "cell_type": "code",
      "metadata": {
        "id": "02649635"
      },
      "source": [
        "df.drop(columns=['log_t_genergy', 'log_t_gpuls'], inplace=True)"
      ],
      "id": "02649635",
      "execution_count": null,
      "outputs": []
    },
    {
      "cell_type": "code",
      "metadata": {
        "colab": {
          "base_uri": "https://localhost:8080/",
          "height": 353
        },
        "id": "f272774e",
        "outputId": "fb91c338-32c6-4690-fd1b-2212f6d5b86d"
      },
      "source": [
        "sns.distplot(df['gdenergy'], hist=True)"
      ],
      "id": "f272774e",
      "execution_count": null,
      "outputs": [
        {
          "output_type": "stream",
          "text": [
            "/usr/local/lib/python3.7/dist-packages/seaborn/distributions.py:2557: FutureWarning: `distplot` is a deprecated function and will be removed in a future version. Please adapt your code to use either `displot` (a figure-level function with similar flexibility) or `histplot` (an axes-level function for histograms).\n",
            "  warnings.warn(msg, FutureWarning)\n"
          ],
          "name": "stderr"
        },
        {
          "output_type": "execute_result",
          "data": {
            "text/plain": [
              "<matplotlib.axes._subplots.AxesSubplot at 0x7f21dd590f90>"
            ]
          },
          "metadata": {
            "tags": []
          },
          "execution_count": 39
        },
        {
          "output_type": "display_data",
          "data": {
            "image/png": "[encoded data removed]",
            "text/plain": [
              "<Figure size 432x288 with 1 Axes>"
            ]
          },
          "metadata": {
            "tags": []
          }
        }
      ]
    },
    {
      "cell_type": "code",
      "metadata": {
        "colab": {
          "base_uri": "https://localhost:8080/",
          "height": 718
        },
        "id": "2b0adf2b",
        "outputId": "2f4577ed-3857-43c2-baca-7c2ac7e4923d"
      },
      "source": [
        "\n",
        "sns.distplot(np.sqrt(df['gdenergy']), hist=True)\n",
        "plt.show()\n",
        "sns.distplot(np.sqrt(df['gdpuls']), hist=True)"
      ],
      "id": "2b0adf2b",
      "execution_count": null,
      "outputs": [
        {
          "output_type": "stream",
          "text": [
            "/usr/local/lib/python3.7/dist-packages/pandas/core/series.py:726: RuntimeWarning: invalid value encountered in sqrt\n",
            "  result = getattr(ufunc, method)(*inputs, **kwargs)\n",
            "/usr/local/lib/python3.7/dist-packages/seaborn/distributions.py:2557: FutureWarning: `distplot` is a deprecated function and will be removed in a future version. Please adapt your code to use either `displot` (a figure-level function with similar flexibility) or `histplot` (an axes-level function for histograms).\n",
            "  warnings.warn(msg, FutureWarning)\n"
          ],
          "name": "stderr"
        },
        {
          "output_type": "display_data",
          "data": {
            "image/png": "[encoded data removed]",
            "text/plain": [
              "<Figure size 432x288 with 1 Axes>"
            ]
          },
          "metadata": {
            "tags": []
          }
        },
        {
          "output_type": "stream",
          "text": [
            "/usr/local/lib/python3.7/dist-packages/pandas/core/series.py:726: RuntimeWarning: invalid value encountered in sqrt\n",
            "  result = getattr(ufunc, method)(*inputs, **kwargs)\n",
            "/usr/local/lib/python3.7/dist-packages/seaborn/distributions.py:2557: FutureWarning: `distplot` is a deprecated function and will be removed in a future version. Please adapt your code to use either `displot` (a figure-level function with similar flexibility) or `histplot` (an axes-level function for histograms).\n",
            "  warnings.warn(msg, FutureWarning)\n"
          ],
          "name": "stderr"
        },
        {
          "output_type": "execute_result",
          "data": {
            "text/plain": [
              "<matplotlib.axes._subplots.AxesSubplot at 0x7f21dd3c37d0>"
            ]
          },
          "metadata": {
            "tags": []
          },
          "execution_count": 40
        },
        {
          "output_type": "display_data",
          "data": {
            "image/png": "[encoded data removed]",
            "text/plain": [
              "<Figure size 432x288 with 1 Axes>"
            ]
          },
          "metadata": {
            "tags": []
          }
        }
      ]
    },
    {
      "cell_type": "code",
      "metadata": {
        "colab": {
          "base_uri": "https://localhost:8080/",
          "height": 634
        },
        "id": "03104805",
        "outputId": "afc8259e-a06c-4959-ff5c-22e82fb37c6c"
      },
      "source": [
        "\n",
        "sns.distplot(df['energy'], hist=True)\n",
        "plt.show()\n",
        "sns.distplot(df['maxenergy'], hist=True)\n",
        "plt.show()"
      ],
      "id": "03104805",
      "execution_count": null,
      "outputs": [
        {
          "output_type": "stream",
          "text": [
            "/usr/local/lib/python3.7/dist-packages/seaborn/distributions.py:2557: FutureWarning: `distplot` is a deprecated function and will be removed in a future version. Please adapt your code to use either `displot` (a figure-level function with similar flexibility) or `histplot` (an axes-level function for histograms).\n",
            "  warnings.warn(msg, FutureWarning)\n"
          ],
          "name": "stderr"
        },
        {
          "output_type": "display_data",
          "data": {
            "image/png": "[encoded data removed]",
            "text/plain": [
              "<Figure size 432x288 with 1 Axes>"
            ]
          },
          "metadata": {
            "tags": []
          }
        },
        {
          "output_type": "stream",
          "text": [
            "/usr/local/lib/python3.7/dist-packages/seaborn/distributions.py:2557: FutureWarning: `distplot` is a deprecated function and will be removed in a future version. Please adapt your code to use either `displot` (a figure-level function with similar flexibility) or `histplot` (an axes-level function for histograms).\n",
            "  warnings.warn(msg, FutureWarning)\n"
          ],
          "name": "stderr"
        },
        {
          "output_type": "display_data",
          "data": {
            "image/png": "[encoded data removed]",
            "text/plain": [
              "<Figure size 432x288 with 1 Axes>"
            ]
          },
          "metadata": {
            "tags": []
          }
        }
      ]
    },
    {
      "cell_type": "code",
      "metadata": {
        "colab": {
          "base_uri": "https://localhost:8080/",
          "height": 1000
        },
        "id": "7dc562af",
        "outputId": "a4e10bc3-f012-4cf7-eff5-961998786abc"
      },
      "source": [
        "for col in col_list_discrete:\n",
        "    sns.countplot(df[col])\n",
        "    plt.show()"
      ],
      "id": "7dc562af",
      "execution_count": null,
      "outputs": [
        {
          "output_type": "stream",
          "text": [
            "/usr/local/lib/python3.7/dist-packages/seaborn/_decorators.py:43: FutureWarning: Pass the following variable as a keyword arg: x. From version 0.12, the only valid positional argument will be `data`, and passing other arguments without an explicit keyword will result in an error or misinterpretation.\n",
            "  FutureWarning\n"
          ],
          "name": "stderr"
        },
        {
          "output_type": "display_data",
          "data": {
            "image/png": "[encoded data removed]",
            "text/plain": [
              "<Figure size 432x288 with 1 Axes>"
            ]
          },
          "metadata": {
            "tags": []
          }
        },
        {
          "output_type": "stream",
          "text": [
            "/usr/local/lib/python3.7/dist-packages/seaborn/_decorators.py:43: FutureWarning: Pass the following variable as a keyword arg: x. From version 0.12, the only valid positional argument will be `data`, and passing other arguments without an explicit keyword will result in an error or misinterpretation.\n",
            "  FutureWarning\n"
          ],
          "name": "stderr"
        },
        {
          "output_type": "display_data",
          "data": {
            "image/png": "[encoded data removed]",
            "text/plain": [
              "<Figure size 432x288 with 1 Axes>"
            ]
          },
          "metadata": {
            "tags": []
          }
        },
        {
          "output_type": "stream",
          "text": [
            "/usr/local/lib/python3.7/dist-packages/seaborn/_decorators.py:43: FutureWarning: Pass the following variable as a keyword arg: x. From version 0.12, the only valid positional argument will be `data`, and passing other arguments without an explicit keyword will result in an error or misinterpretation.\n",
            "  FutureWarning\n"
          ],
          "name": "stderr"
        },
        {
          "output_type": "display_data",
          "data": {
            "image/png": "[encoded data removed]",
            "text/plain": [
              "<Figure size 432x288 with 1 Axes>"
            ]
          },
          "metadata": {
            "tags": []
          }
        },
        {
          "output_type": "stream",
          "text": [
            "/usr/local/lib/python3.7/dist-packages/seaborn/_decorators.py:43: FutureWarning: Pass the following variable as a keyword arg: x. From version 0.12, the only valid positional argument will be `data`, and passing other arguments without an explicit keyword will result in an error or misinterpretation.\n",
            "  FutureWarning\n"
          ],
          "name": "stderr"
        },
        {
          "output_type": "display_data",
          "data": {
            "image/png": "[encoded data removed]",
            "text/plain": [
              "<Figure size 432x288 with 1 Axes>"
            ]
          },
          "metadata": {
            "tags": []
          }
        },
        {
          "output_type": "stream",
          "text": [
            "/usr/local/lib/python3.7/dist-packages/seaborn/_decorators.py:43: FutureWarning: Pass the following variable as a keyword arg: x. From version 0.12, the only valid positional argument will be `data`, and passing other arguments without an explicit keyword will result in an error or misinterpretation.\n",
            "  FutureWarning\n"
          ],
          "name": "stderr"
        },
        {
          "output_type": "display_data",
          "data": {
            "image/png": "[encoded data removed]",
            "text/plain": [
              "<Figure size 432x288 with 1 Axes>"
            ]
          },
          "metadata": {
            "tags": []
          }
        },
        {
          "output_type": "stream",
          "text": [
            "/usr/local/lib/python3.7/dist-packages/seaborn/_decorators.py:43: FutureWarning: Pass the following variable as a keyword arg: x. From version 0.12, the only valid positional argument will be `data`, and passing other arguments without an explicit keyword will result in an error or misinterpretation.\n",
            "  FutureWarning\n"
          ],
          "name": "stderr"
        },
        {
          "output_type": "display_data",
          "data": {
            "image/png": "[encoded data removed]",
            "text/plain": [
              "<Figure size 432x288 with 1 Axes>"
            ]
          },
          "metadata": {
            "tags": []
          }
        },
        {
          "output_type": "stream",
          "text": [
            "/usr/local/lib/python3.7/dist-packages/seaborn/_decorators.py:43: FutureWarning: Pass the following variable as a keyword arg: x. From version 0.12, the only valid positional argument will be `data`, and passing other arguments without an explicit keyword will result in an error or misinterpretation.\n",
            "  FutureWarning\n"
          ],
          "name": "stderr"
        },
        {
          "output_type": "display_data",
          "data": {
            "image/png": "[encoded data removed]",
            "text/plain": [
              "<Figure size 432x288 with 1 Axes>"
            ]
          },
          "metadata": {
            "tags": []
          }
        },
        {
          "output_type": "stream",
          "text": [
            "/usr/local/lib/python3.7/dist-packages/seaborn/_decorators.py:43: FutureWarning: Pass the following variable as a keyword arg: x. From version 0.12, the only valid positional argument will be `data`, and passing other arguments without an explicit keyword will result in an error or misinterpretation.\n",
            "  FutureWarning\n"
          ],
          "name": "stderr"
        },
        {
          "output_type": "display_data",
          "data": {
            "image/png": "[encoded data removed]",
            "text/plain": [
              "<Figure size 432x288 with 1 Axes>"
            ]
          },
          "metadata": {
            "tags": []
          }
        }
      ]
    },
    {
      "cell_type": "code",
      "metadata": {
        "id": "8d0f1aa3"
      },
      "source": [
        "df.drop(columns=['nbumps6', 'nbumps7', 'nbumps89'], inplace=True)"
      ],
      "id": "8d0f1aa3",
      "execution_count": null,
      "outputs": []
    },
    {
      "cell_type": "code",
      "metadata": {
        "colab": {
          "base_uri": "https://localhost:8080/"
        },
        "id": "198ecf0b",
        "outputId": "a3e4b1e5-d159-4dd3-efbf-f02166513673"
      },
      "source": [
        "col_list_discrete = list(set(col_list_discrete) - set(['nbumps6', 'nbumps7', 'nbumps89']))\n",
        "col_list_discrete"
      ],
      "id": "198ecf0b",
      "execution_count": null,
      "outputs": [
        {
          "output_type": "execute_result",
          "data": {
            "text/plain": [
              "['nbumps3', 'nbumps5', 'nbumps2', 'nbumps4', 'nbumps']"
            ]
          },
          "metadata": {
            "tags": []
          },
          "execution_count": 44
        }
      ]
    },
    {
      "cell_type": "code",
      "metadata": {
        "colab": {
          "base_uri": "https://localhost:8080/"
        },
        "id": "456d9bc8",
        "outputId": "3a500916-2c33-438b-d2bf-c2553bcceeb8"
      },
      "source": [
        "for each_col in col_list_discrete:\n",
        "    data_crosstab = pd.crosstab(df[each_col], df[label], colnames=['class'])\n",
        "    print(data_crosstab)\n",
        "    print('-----')"
      ],
      "id": "456d9bc8",
      "execution_count": null,
      "outputs": [
        {
          "output_type": "stream",
          "text": [
            "class       0   1\n",
            "nbumps3          \n",
            "0        1806  73\n",
            "1         442  55\n",
            "2         115  25\n",
            "3          35   7\n",
            "4          12   8\n",
            "5           3   2\n",
            "7           1   0\n",
            "-----\n",
            "class       0    1\n",
            "nbumps5           \n",
            "0        2403  169\n",
            "1          11    1\n",
            "-----\n",
            "class       0   1\n",
            "nbumps2          \n",
            "0        1832  69\n",
            "1         399  56\n",
            "2         122  29\n",
            "3          47  11\n",
            "4           8   4\n",
            "5           5   1\n",
            "8           1   0\n",
            "-----\n",
            "class       0    1\n",
            "nbumps4           \n",
            "0        2278  148\n",
            "1         123   20\n",
            "2          12    1\n",
            "3           1    1\n",
            "-----\n",
            "class      0   1\n",
            "nbumps          \n",
            "0       1424  40\n",
            "1        567  31\n",
            "2        208  37\n",
            "3         96  31\n",
            "4         59  10\n",
            "5         30   8\n",
            "6         19   9\n",
            "7          3   2\n",
            "8          6   1\n",
            "9          2   1\n",
            "-----\n"
          ],
          "name": "stdout"
        }
      ]
    },
    {
      "cell_type": "code",
      "metadata": {
        "colab": {
          "base_uri": "https://localhost:8080/"
        },
        "id": "381868f9",
        "outputId": "006566f1-1be5-4cc4-e9fb-6bb2e2ee4388"
      },
      "source": [
        "\n",
        "\n",
        "\n",
        "df.shape"
      ],
      "id": "381868f9",
      "execution_count": null,
      "outputs": [
        {
          "output_type": "execute_result",
          "data": {
            "text/plain": [
              "(2584, 19)"
            ]
          },
          "metadata": {
            "tags": []
          },
          "execution_count": 46
        }
      ]
    },
    {
      "cell_type": "code",
      "metadata": {
        "colab": {
          "base_uri": "https://localhost:8080/",
          "height": 223
        },
        "id": "02f15646",
        "outputId": "c057ed5f-f052-4f4f-c6d3-39e6472819d0"
      },
      "source": [
        "df.head()"
      ],
      "id": "02f15646",
      "execution_count": null,
      "outputs": [
        {
          "output_type": "execute_result",
          "data": {
            "text/html": [
              "<div>\n",
              "<style scoped>\n",
              "    .dataframe tbody tr th:only-of-type {\n",
              "        vertical-align: middle;\n",
              "    }\n",
              "\n",
              "    .dataframe tbody tr th {\n",
              "        vertical-align: top;\n",
              "    }\n",
              "\n",
              "    .dataframe thead th {\n",
              "        text-align: right;\n",
              "    }\n",
              "</style>\n",
              "<table border=\"1\" class=\"dataframe\">\n",
              "  <thead>\n",
              "    <tr style=\"text-align: right;\">\n",
              "      <th></th>\n",
              "      <th>id</th>\n",
              "      <th>genergy</th>\n",
              "      <th>gpuls</th>\n",
              "      <th>gdenergy</th>\n",
              "      <th>gdpuls</th>\n",
              "      <th>nbumps</th>\n",
              "      <th>nbumps2</th>\n",
              "      <th>nbumps3</th>\n",
              "      <th>nbumps4</th>\n",
              "      <th>nbumps5</th>\n",
              "      <th>energy</th>\n",
              "      <th>maxenergy</th>\n",
              "      <th>class</th>\n",
              "      <th>seismic_enc_0</th>\n",
              "      <th>seismoacoustic_enc_0</th>\n",
              "      <th>seismoacoustic_enc_1</th>\n",
              "      <th>shift_enc_0</th>\n",
              "      <th>ghazard_enc_0</th>\n",
              "      <th>ghazard_enc_1</th>\n",
              "    </tr>\n",
              "  </thead>\n",
              "  <tbody>\n",
              "    <tr>\n",
              "      <th>0</th>\n",
              "      <td>1</td>\n",
              "      <td>15180</td>\n",
              "      <td>48</td>\n",
              "      <td>-72</td>\n",
              "      <td>-72</td>\n",
              "      <td>0</td>\n",
              "      <td>0</td>\n",
              "      <td>0</td>\n",
              "      <td>0</td>\n",
              "      <td>0</td>\n",
              "      <td>0</td>\n",
              "      <td>0</td>\n",
              "      <td>0</td>\n",
              "      <td>0.0</td>\n",
              "      <td>0.0</td>\n",
              "      <td>0.0</td>\n",
              "      <td>0.0</td>\n",
              "      <td>0.0</td>\n",
              "      <td>0.0</td>\n",
              "    </tr>\n",
              "    <tr>\n",
              "      <th>1</th>\n",
              "      <td>2</td>\n",
              "      <td>14720</td>\n",
              "      <td>33</td>\n",
              "      <td>-70</td>\n",
              "      <td>-79</td>\n",
              "      <td>1</td>\n",
              "      <td>0</td>\n",
              "      <td>1</td>\n",
              "      <td>0</td>\n",
              "      <td>0</td>\n",
              "      <td>2000</td>\n",
              "      <td>2000</td>\n",
              "      <td>0</td>\n",
              "      <td>0.0</td>\n",
              "      <td>0.0</td>\n",
              "      <td>0.0</td>\n",
              "      <td>0.0</td>\n",
              "      <td>0.0</td>\n",
              "      <td>0.0</td>\n",
              "    </tr>\n",
              "    <tr>\n",
              "      <th>2</th>\n",
              "      <td>3</td>\n",
              "      <td>8050</td>\n",
              "      <td>30</td>\n",
              "      <td>-81</td>\n",
              "      <td>-78</td>\n",
              "      <td>0</td>\n",
              "      <td>0</td>\n",
              "      <td>0</td>\n",
              "      <td>0</td>\n",
              "      <td>0</td>\n",
              "      <td>0</td>\n",
              "      <td>0</td>\n",
              "      <td>0</td>\n",
              "      <td>0.0</td>\n",
              "      <td>0.0</td>\n",
              "      <td>0.0</td>\n",
              "      <td>0.0</td>\n",
              "      <td>0.0</td>\n",
              "      <td>0.0</td>\n",
              "    </tr>\n",
              "    <tr>\n",
              "      <th>3</th>\n",
              "      <td>4</td>\n",
              "      <td>28820</td>\n",
              "      <td>171</td>\n",
              "      <td>-23</td>\n",
              "      <td>40</td>\n",
              "      <td>1</td>\n",
              "      <td>0</td>\n",
              "      <td>1</td>\n",
              "      <td>0</td>\n",
              "      <td>0</td>\n",
              "      <td>3000</td>\n",
              "      <td>3000</td>\n",
              "      <td>0</td>\n",
              "      <td>0.0</td>\n",
              "      <td>0.0</td>\n",
              "      <td>0.0</td>\n",
              "      <td>0.0</td>\n",
              "      <td>0.0</td>\n",
              "      <td>0.0</td>\n",
              "    </tr>\n",
              "    <tr>\n",
              "      <th>4</th>\n",
              "      <td>5</td>\n",
              "      <td>12640</td>\n",
              "      <td>57</td>\n",
              "      <td>-63</td>\n",
              "      <td>-52</td>\n",
              "      <td>0</td>\n",
              "      <td>0</td>\n",
              "      <td>0</td>\n",
              "      <td>0</td>\n",
              "      <td>0</td>\n",
              "      <td>0</td>\n",
              "      <td>0</td>\n",
              "      <td>0</td>\n",
              "      <td>0.0</td>\n",
              "      <td>0.0</td>\n",
              "      <td>0.0</td>\n",
              "      <td>0.0</td>\n",
              "      <td>0.0</td>\n",
              "      <td>0.0</td>\n",
              "    </tr>\n",
              "  </tbody>\n",
              "</table>\n",
              "</div>"
            ],
            "text/plain": [
              "   id  genergy  gpuls  gdenergy  gdpuls  nbumps  nbumps2  nbumps3  nbumps4  \\\n",
              "0   1    15180     48       -72     -72       0        0        0        0   \n",
              "1   2    14720     33       -70     -79       1        0        1        0   \n",
              "2   3     8050     30       -81     -78       0        0        0        0   \n",
              "3   4    28820    171       -23      40       1        0        1        0   \n",
              "4   5    12640     57       -63     -52       0        0        0        0   \n",
              "\n",
              "   nbumps5  energy  maxenergy  class  seismic_enc_0  seismoacoustic_enc_0  \\\n",
              "0        0       0          0      0            0.0                   0.0   \n",
              "1        0    2000       2000      0            0.0                   0.0   \n",
              "2        0       0          0      0            0.0                   0.0   \n",
              "3        0    3000       3000      0            0.0                   0.0   \n",
              "4        0       0          0      0            0.0                   0.0   \n",
              "\n",
              "   seismoacoustic_enc_1  shift_enc_0  ghazard_enc_0  ghazard_enc_1  \n",
              "0                   0.0          0.0            0.0            0.0  \n",
              "1                   0.0          0.0            0.0            0.0  \n",
              "2                   0.0          0.0            0.0            0.0  \n",
              "3                   0.0          0.0            0.0            0.0  \n",
              "4                   0.0          0.0            0.0            0.0  "
            ]
          },
          "metadata": {
            "tags": []
          },
          "execution_count": 47
        }
      ]
    },
    {
      "cell_type": "code",
      "metadata": {
        "colab": {
          "base_uri": "https://localhost:8080/"
        },
        "id": "b68ce4ca",
        "outputId": "c6ea5ca2-44c9-49c6-ce93-89463ea933d4"
      },
      "source": [
        "list(set(df.columns) - set([label]))"
      ],
      "id": "b68ce4ca",
      "execution_count": null,
      "outputs": [
        {
          "output_type": "execute_result",
          "data": {
            "text/plain": [
              "['gdenergy',\n",
              " 'maxenergy',\n",
              " 'nbumps3',\n",
              " 'ghazard_enc_0',\n",
              " 'genergy',\n",
              " 'seismoacoustic_enc_0',\n",
              " 'seismic_enc_0',\n",
              " 'shift_enc_0',\n",
              " 'gdpuls',\n",
              " 'ghazard_enc_1',\n",
              " 'id',\n",
              " 'seismoacoustic_enc_1',\n",
              " 'nbumps5',\n",
              " 'nbumps2',\n",
              " 'gpuls',\n",
              " 'energy',\n",
              " 'nbumps4',\n",
              " 'nbumps']"
            ]
          },
          "metadata": {
            "tags": []
          },
          "execution_count": 48
        }
      ]
    },
    {
      "cell_type": "code",
      "metadata": {
        "colab": {
          "base_uri": "https://localhost:8080/"
        },
        "id": "fa9f09d8",
        "outputId": "9bb16659-48a2-48af-b000-eac570262ac8"
      },
      "source": [
        "X = df[list(set(df.columns) - set([label]))].values\n",
        "y = df[label]\n",
        "X.shape, y.shape"
      ],
      "id": "fa9f09d8",
      "execution_count": null,
      "outputs": [
        {
          "output_type": "execute_result",
          "data": {
            "text/plain": [
              "((2584, 18), (2584,))"
            ]
          },
          "metadata": {
            "tags": []
          },
          "execution_count": 49
        }
      ]
    },
    {
      "cell_type": "code",
      "metadata": {
        "colab": {
          "base_uri": "https://localhost:8080/"
        },
        "id": "7ade9624",
        "outputId": "4131a373-8774-45ea-a37f-d82a6420194b"
      },
      "source": [
        "y"
      ],
      "id": "7ade9624",
      "execution_count": null,
      "outputs": [
        {
          "output_type": "execute_result",
          "data": {
            "text/plain": [
              "0       0\n",
              "1       0\n",
              "2       0\n",
              "3       0\n",
              "4       0\n",
              "       ..\n",
              "2579    0\n",
              "2580    0\n",
              "2581    0\n",
              "2582    0\n",
              "2583    0\n",
              "Name: class, Length: 2584, dtype: int64"
            ]
          },
          "metadata": {
            "tags": []
          },
          "execution_count": 50
        }
      ]
    },
    {
      "cell_type": "code",
      "metadata": {
        "id": "f3240755"
      },
      "source": [
        "X_train,X_test,y_train,y_test=train_test_split(X,y,test_size=0.2,random_state=0)"
      ],
      "id": "f3240755",
      "execution_count": null,
      "outputs": []
    },
    {
      "cell_type": "code",
      "metadata": {
        "id": "b6408a54"
      },
      "source": [
        "from keras.utils import np_utils\n",
        "from keras.models import Sequential, load_model\n",
        "from keras.layers import Dense, Dropout, Activation, Conv2D,MaxPooling2D, Flatten"
      ],
      "id": "b6408a54",
      "execution_count": null,
      "outputs": []
    },
    {
      "cell_type": "code",
      "metadata": {
        "id": "d1fee6d4"
      },
      "source": [
        "model = Sequential()\n",
        "model.add(Dense(32,input_shape=(X_train.shape[1],)))\n",
        "model.add(Activation('relu'))\n",
        "model.add(Dense(64,input_shape=(X_train.shape[1],)))\n",
        "model.add(Activation('relu'))\n",
        "model.add(Dense(64,input_shape=(X_train.shape[1],)))\n",
        "model.add(Activation('relu'))\n",
        "model.add(Dense(128,input_shape=(X_train.shape[1],)))\n",
        "model.add(Activation('relu'))\n",
        "model.add(Dense(128,input_shape=(X_train.shape[1],)))\n",
        "model.add(Activation('relu'))\n",
        "model.add(Dense(256,input_shape=(X_train.shape[1],)))\n",
        "model.add(Activation('relu'))\n",
        "model.add(Dense(256,input_shape=(X_train.shape[1],)))\n",
        "model.add(Activation('relu'))\n",
        "model.add(Dense(2))\n",
        "model.add(Activation('softmax'))"
      ],
      "id": "d1fee6d4",
      "execution_count": null,
      "outputs": []
    },
    {
      "cell_type": "code",
      "metadata": {
        "id": "954b9c0f"
      },
      "source": [
        "pre=model.predict(X_test)"
      ],
      "id": "954b9c0f",
      "execution_count": null,
      "outputs": []
    },
    {
      "cell_type": "code",
      "metadata": {
        "colab": {
          "base_uri": "https://localhost:8080/"
        },
        "id": "c5533be4",
        "outputId": "ef72963a-512d-4ef9-9355-171118b7e085"
      },
      "source": [
        "print(model.summary())\n",
        "model.compile(loss='sparse_categorical_crossentropy',\n",
        "              optimizer=\"sgd\",metrics=['accuracy'])\n",
        "model.fit(X_train, y_train, batch_size=10, epochs=50, verbose=1, validation_data=(X_test, y_test))\n",
        "loss, accuracy = model.evaluate(X_test,y_test, verbose=0)\n",
        "print(\"Loss : \"+str(loss))\n",
        "print(\"Accuracy :\"+str(accuracy*100.0))"
      ],
      "id": "c5533be4",
      "execution_count": null,
      "outputs": [
        {
          "output_type": "stream",
          "text": [
            "Model: \"sequential\"\n",
            "_________________________________________________________________\n",
            "Layer (type)                 Output Shape              Param #   \n",
            "=================================================================\n",
            "dense (Dense)                (None, 32)                608       \n",
            "_________________________________________________________________\n",
            "activation (Activation)      (None, 32)                0         \n",
            "_________________________________________________________________\n",
            "dense_1 (Dense)              (None, 64)                2112      \n",
            "_________________________________________________________________\n",
            "activation_1 (Activation)    (None, 64)                0         \n",
            "_________________________________________________________________\n",
            "dense_2 (Dense)              (None, 64)                4160      \n",
            "_________________________________________________________________\n",
            "activation_2 (Activation)    (None, 64)                0         \n",
            "_________________________________________________________________\n",
            "dense_3 (Dense)              (None, 128)               8320      \n",
            "_________________________________________________________________\n",
            "activation_3 (Activation)    (None, 128)               0         \n",
            "_________________________________________________________________\n",
            "dense_4 (Dense)              (None, 128)               16512     \n",
            "_________________________________________________________________\n",
            "activation_4 (Activation)    (None, 128)               0         \n",
            "_________________________________________________________________\n",
            "dense_5 (Dense)              (None, 256)               33024     \n",
            "_________________________________________________________________\n",
            "activation_5 (Activation)    (None, 256)               0         \n",
            "_________________________________________________________________\n",
            "dense_6 (Dense)              (None, 256)               65792     \n",
            "_________________________________________________________________\n",
            "activation_6 (Activation)    (None, 256)               0         \n",
            "_________________________________________________________________\n",
            "dense_7 (Dense)              (None, 2)                 514       \n",
            "_________________________________________________________________\n",
            "activation_7 (Activation)    (None, 2)                 0         \n",
            "=================================================================\n",
            "Total params: 131,042\n",
            "Trainable params: 131,042\n",
            "Non-trainable params: 0\n",
            "_________________________________________________________________\n",
            "None\n",
            "Epoch 1/50\n",
            "207/207 [==============================] - 8s 6ms/step - loss: nan - accuracy: 0.9218 - val_loss: nan - val_accuracy: 0.9478\n",
            "Epoch 2/50\n",
            "207/207 [==============================] - 1s 3ms/step - loss: nan - accuracy: 0.9256 - val_loss: nan - val_accuracy: 0.9478\n",
            "Epoch 3/50\n",
            "207/207 [==============================] - 1s 3ms/step - loss: nan - accuracy: 0.9312 - val_loss: nan - val_accuracy: 0.9478\n",
            "Epoch 4/50\n",
            "207/207 [==============================] - 1s 3ms/step - loss: nan - accuracy: 0.9241 - val_loss: nan - val_accuracy: 0.9478\n",
            "Epoch 5/50\n",
            "207/207 [==============================] - 1s 3ms/step - loss: nan - accuracy: 0.9391 - val_loss: nan - val_accuracy: 0.9478\n",
            "Epoch 6/50\n",
            "207/207 [==============================] - 1s 3ms/step - loss: nan - accuracy: 0.9306 - val_loss: nan - val_accuracy: 0.9478\n",
            "Epoch 7/50\n",
            "207/207 [==============================] - 1s 3ms/step - loss: nan - accuracy: 0.9290 - val_loss: nan - val_accuracy: 0.9478\n",
            "Epoch 8/50\n",
            "207/207 [==============================] - 1s 3ms/step - loss: nan - accuracy: 0.9270 - val_loss: nan - val_accuracy: 0.9478\n",
            "Epoch 9/50\n",
            "207/207 [==============================] - 1s 3ms/step - loss: nan - accuracy: 0.9274 - val_loss: nan - val_accuracy: 0.9478\n",
            "Epoch 10/50\n",
            "207/207 [==============================] - 1s 3ms/step - loss: nan - accuracy: 0.9315 - val_loss: nan - val_accuracy: 0.9478\n",
            "Epoch 11/50\n",
            "207/207 [==============================] - 1s 3ms/step - loss: nan - accuracy: 0.9288 - val_loss: nan - val_accuracy: 0.9478\n",
            "Epoch 12/50\n",
            "207/207 [==============================] - 1s 3ms/step - loss: nan - accuracy: 0.9327 - val_loss: nan - val_accuracy: 0.9478\n",
            "Epoch 13/50\n",
            "207/207 [==============================] - 1s 3ms/step - loss: nan - accuracy: 0.9307 - val_loss: nan - val_accuracy: 0.9478\n",
            "Epoch 14/50\n",
            "207/207 [==============================] - 1s 3ms/step - loss: nan - accuracy: 0.9452 - val_loss: nan - val_accuracy: 0.9478\n",
            "Epoch 15/50\n",
            "207/207 [==============================] - 1s 3ms/step - loss: nan - accuracy: 0.9314 - val_loss: nan - val_accuracy: 0.9478\n",
            "Epoch 16/50\n",
            "207/207 [==============================] - 1s 3ms/step - loss: nan - accuracy: 0.9320 - val_loss: nan - val_accuracy: 0.9478\n",
            "Epoch 17/50\n",
            "207/207 [==============================] - 1s 3ms/step - loss: nan - accuracy: 0.9262 - val_loss: nan - val_accuracy: 0.9478\n",
            "Epoch 18/50\n",
            "207/207 [==============================] - 1s 3ms/step - loss: nan - accuracy: 0.9232 - val_loss: nan - val_accuracy: 0.9478\n",
            "Epoch 19/50\n",
            "207/207 [==============================] - 1s 3ms/step - loss: nan - accuracy: 0.9336 - val_loss: nan - val_accuracy: 0.9478\n",
            "Epoch 20/50\n",
            "207/207 [==============================] - 1s 3ms/step - loss: nan - accuracy: 0.9218 - val_loss: nan - val_accuracy: 0.9478\n",
            "Epoch 21/50\n",
            "207/207 [==============================] - 1s 3ms/step - loss: nan - accuracy: 0.9238 - val_loss: nan - val_accuracy: 0.9478\n",
            "Epoch 22/50\n",
            "207/207 [==============================] - 1s 3ms/step - loss: nan - accuracy: 0.9264 - val_loss: nan - val_accuracy: 0.9478\n",
            "Epoch 23/50\n",
            "207/207 [==============================] - 1s 3ms/step - loss: nan - accuracy: 0.9297 - val_loss: nan - val_accuracy: 0.9478\n",
            "Epoch 24/50\n",
            "207/207 [==============================] - 1s 3ms/step - loss: nan - accuracy: 0.9260 - val_loss: nan - val_accuracy: 0.9478\n",
            "Epoch 25/50\n",
            "207/207 [==============================] - 1s 3ms/step - loss: nan - accuracy: 0.9379 - val_loss: nan - val_accuracy: 0.9478\n",
            "Epoch 26/50\n",
            "207/207 [==============================] - 1s 3ms/step - loss: nan - accuracy: 0.9333 - val_loss: nan - val_accuracy: 0.9478\n",
            "Epoch 27/50\n",
            "207/207 [==============================] - 1s 3ms/step - loss: nan - accuracy: 0.9317 - val_loss: nan - val_accuracy: 0.9478\n",
            "Epoch 28/50\n",
            "207/207 [==============================] - 1s 3ms/step - loss: nan - accuracy: 0.9352 - val_loss: nan - val_accuracy: 0.9478\n",
            "Epoch 29/50\n",
            "207/207 [==============================] - 1s 3ms/step - loss: nan - accuracy: 0.9182 - val_loss: nan - val_accuracy: 0.9478\n",
            "Epoch 30/50\n",
            "207/207 [==============================] - 1s 3ms/step - loss: nan - accuracy: 0.9331 - val_loss: nan - val_accuracy: 0.9478\n",
            "Epoch 31/50\n",
            "207/207 [==============================] - 1s 3ms/step - loss: nan - accuracy: 0.9266 - val_loss: nan - val_accuracy: 0.9478\n",
            "Epoch 32/50\n",
            "207/207 [==============================] - 1s 3ms/step - loss: nan - accuracy: 0.9225 - val_loss: nan - val_accuracy: 0.9478\n",
            "Epoch 33/50\n",
            "207/207 [==============================] - 1s 3ms/step - loss: nan - accuracy: 0.9294 - val_loss: nan - val_accuracy: 0.9478\n",
            "Epoch 34/50\n",
            "207/207 [==============================] - 1s 3ms/step - loss: nan - accuracy: 0.9281 - val_loss: nan - val_accuracy: 0.9478\n",
            "Epoch 35/50\n",
            "207/207 [==============================] - 1s 3ms/step - loss: nan - accuracy: 0.9264 - val_loss: nan - val_accuracy: 0.9478\n",
            "Epoch 36/50\n",
            "207/207 [==============================] - 1s 3ms/step - loss: nan - accuracy: 0.9385 - val_loss: nan - val_accuracy: 0.9478\n",
            "Epoch 37/50\n",
            "207/207 [==============================] - 1s 3ms/step - loss: nan - accuracy: 0.9268 - val_loss: nan - val_accuracy: 0.9478\n",
            "Epoch 38/50\n",
            "207/207 [==============================] - 1s 3ms/step - loss: nan - accuracy: 0.9373 - val_loss: nan - val_accuracy: 0.9478\n",
            "Epoch 39/50\n",
            "207/207 [==============================] - 1s 3ms/step - loss: nan - accuracy: 0.9321 - val_loss: nan - val_accuracy: 0.9478\n",
            "Epoch 40/50\n",
            "207/207 [==============================] - 1s 3ms/step - loss: nan - accuracy: 0.9267 - val_loss: nan - val_accuracy: 0.9478\n",
            "Epoch 41/50\n",
            "207/207 [==============================] - 1s 3ms/step - loss: nan - accuracy: 0.9410 - val_loss: nan - val_accuracy: 0.9478\n",
            "Epoch 42/50\n",
            "207/207 [==============================] - 1s 3ms/step - loss: nan - accuracy: 0.9280 - val_loss: nan - val_accuracy: 0.9478\n",
            "Epoch 43/50\n",
            "207/207 [==============================] - 1s 3ms/step - loss: nan - accuracy: 0.9377 - val_loss: nan - val_accuracy: 0.9478\n",
            "Epoch 44/50\n",
            "207/207 [==============================] - 1s 3ms/step - loss: nan - accuracy: 0.9221 - val_loss: nan - val_accuracy: 0.9478\n",
            "Epoch 45/50\n",
            "207/207 [==============================] - 1s 3ms/step - loss: nan - accuracy: 0.9322 - val_loss: nan - val_accuracy: 0.9478\n",
            "Epoch 46/50\n",
            "207/207 [==============================] - 1s 3ms/step - loss: nan - accuracy: 0.9293 - val_loss: nan - val_accuracy: 0.9478\n",
            "Epoch 47/50\n",
            "207/207 [==============================] - 1s 3ms/step - loss: nan - accuracy: 0.9298 - val_loss: nan - val_accuracy: 0.9478\n",
            "Epoch 48/50\n",
            "207/207 [==============================] - 1s 3ms/step - loss: nan - accuracy: 0.9386 - val_loss: nan - val_accuracy: 0.9478\n",
            "Epoch 49/50\n",
            "207/207 [==============================] - 1s 3ms/step - loss: nan - accuracy: 0.9362 - val_loss: nan - val_accuracy: 0.9478\n",
            "Epoch 50/50\n",
            "207/207 [==============================] - 1s 3ms/step - loss: nan - accuracy: 0.9229 - val_loss: nan - val_accuracy: 0.9478\n",
            "Loss : nan\n",
            "Accuracy :94.77756023406982\n"
          ],
          "name": "stdout"
        }
      ]
    },
    {
      "cell_type": "code",
      "metadata": {
        "id": "860e468e"
      },
      "source": [
        "def plot_roc(y_pred,y):\n",
        "    fpr, tpr, _ = roc_curve(y, pred)\n",
        "    roc_auc = auc(fpr, tpr)\n",
        "\n",
        "    plt.figure()\n",
        "    plt.plot(fpr, tpr, label='ROC curve (area = %0.2f)' % roc_auc)\n",
        "    plt.plot([0, 1], [0, 1], 'k--')\n",
        "    plt.xlim([0.0, 1.0])\n",
        "    plt.ylim([0.0, 1.05])\n",
        "    plt.xlabel('False Positive Rate')\n",
        "    plt.ylabel('True Positive Rate')\n",
        "    plt.title('Receiver Operating Characteristic (ROC)')\n",
        "    plt.legend(loc=\"lower right\")\n",
        "    plt.show()"
      ],
      "id": "860e468e",
      "execution_count": null,
      "outputs": []
    },
    {
      "cell_type": "code",
      "metadata": {
        "colab": {
          "base_uri": "https://localhost:8080/",
          "height": 618
        },
        "id": "06427f17",
        "outputId": "46873eec-941d-41d2-f29f-30f3c3092740"
      },
      "source": [
        "history = model.fit(X_train, y_train, validation_data=(X_test, y_test), batch_size=32, epochs=10, verbose=1)\n",
        "\n",
        "# Get training and test loss histories\n",
        "training_loss = history.history['loss']\n",
        "test_loss = history.history['val_loss']\n",
        "\n",
        "# Create count of the number of epochs\n",
        "epoch_count = range(1, len(training_loss) + 1)\n",
        "\n",
        "plt.plot(epoch_count, training_loss, 'r--')\n",
        "plt.plot(epoch_count, test_loss, 'b-')\n",
        "plt.legend(['Training Loss', 'Test Loss'])\n",
        "plt.xlabel('Epoch')\n",
        "plt.ylabel('Loss')\n",
        "plt.show();"
      ],
      "id": "06427f17",
      "execution_count": null,
      "outputs": [
        {
          "output_type": "stream",
          "text": [
            "Epoch 1/10\n",
            "65/65 [==============================] - 0s 4ms/step - loss: nan - accuracy: 0.9308 - val_loss: nan - val_accuracy: 0.9478\n",
            "Epoch 2/10\n",
            "65/65 [==============================] - 0s 4ms/step - loss: nan - accuracy: 0.9308 - val_loss: nan - val_accuracy: 0.9478\n",
            "Epoch 3/10\n",
            "65/65 [==============================] - 0s 3ms/step - loss: nan - accuracy: 0.9308 - val_loss: nan - val_accuracy: 0.9478\n",
            "Epoch 4/10\n",
            "65/65 [==============================] - 0s 3ms/step - loss: nan - accuracy: 0.9308 - val_loss: nan - val_accuracy: 0.9478\n",
            "Epoch 5/10\n",
            "65/65 [==============================] - 0s 3ms/step - loss: nan - accuracy: 0.9308 - val_loss: nan - val_accuracy: 0.9478\n",
            "Epoch 6/10\n",
            "65/65 [==============================] - 0s 3ms/step - loss: nan - accuracy: 0.9308 - val_loss: nan - val_accuracy: 0.9478\n",
            "Epoch 7/10\n",
            "65/65 [==============================] - 0s 4ms/step - loss: nan - accuracy: 0.9308 - val_loss: nan - val_accuracy: 0.9478\n",
            "Epoch 8/10\n",
            "65/65 [==============================] - 0s 3ms/step - loss: nan - accuracy: 0.9308 - val_loss: nan - val_accuracy: 0.9478\n",
            "Epoch 9/10\n",
            "65/65 [==============================] - 0s 3ms/step - loss: nan - accuracy: 0.9308 - val_loss: nan - val_accuracy: 0.9478\n",
            "Epoch 10/10\n",
            "65/65 [==============================] - 0s 3ms/step - loss: nan - accuracy: 0.9308 - val_loss: nan - val_accuracy: 0.9478\n"
          ],
          "name": "stdout"
        },
        {
          "output_type": "display_data",
          "data": {
            "image/png": "[encoded data removed]",
            "text/plain": [
              "<Figure size 432x288 with 1 Axes>"
            ]
          },
          "metadata": {
            "tags": []
          }
        }
      ]
    },
    {
      "cell_type": "code",
      "metadata": {
        "id": "GgOovrulFl1w"
      },
      "source": [
        ""
      ],
      "id": "GgOovrulFl1w",
      "execution_count": null,
      "outputs": []
    }
  ]
}